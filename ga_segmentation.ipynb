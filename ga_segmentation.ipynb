{
  "nbformat": 4,
  "nbformat_minor": 0,
  "metadata": {
    "colab": {
      "name": "ga_segmentation.ipynb",
      "provenance": [],
      "authorship_tag": "ABX9TyPCvGtazov18Ms4NJVbenRW",
      "include_colab_link": true
    },
    "kernelspec": {
      "name": "python3",
      "display_name": "Python 3"
    },
    "language_info": {
      "name": "python"
    }
  },
  "cells": [
    {
      "cell_type": "markdown",
      "metadata": {
        "id": "view-in-github",
        "colab_type": "text"
      },
      "source": [
        "<a href=\"https://colab.research.google.com/github/greyhound101/gan_segmentation_FE/blob/main/ga_segmentation.ipynb\" target=\"_parent\"><img src=\"https://colab.research.google.com/assets/colab-badge.svg\" alt=\"Open In Colab\"/></a>"
      ]
    },
    {
      "cell_type": "code",
      "metadata": {
        "id": "CUzRq2tcAFO5",
        "colab": {
          "base_uri": "https://localhost:8080/"
        },
        "outputId": "a4f811c2-df4c-4e3f-eddf-54ac3399d489"
      },
      "source": [
        "from google.colab import drive\n",
        "drive.mount('/content/gdrive')\n",
        "drive.mount(\"/content/gdrive\", force_remount=True)"
      ],
      "execution_count": null,
      "outputs": [
        {
          "output_type": "stream",
          "text": [
            "Mounted at /content/gdrive\n",
            "Mounted at /content/gdrive\n"
          ],
          "name": "stdout"
        }
      ]
    },
    {
      "cell_type": "code",
      "metadata": {
        "id": "xdZC10UoCNev"
      },
      "source": [
        "import zipfile\n",
        "with zipfile.ZipFile('/content/gdrive/My Drive/segmentation/Training_Batch1.zip', 'r') as zip_ref:\n",
        "    zip_ref.extractall('/content/')"
      ],
      "execution_count": null,
      "outputs": []
    },
    {
      "cell_type": "code",
      "metadata": {
        "id": "5fz3GxG3CRxU"
      },
      "source": [
        "import os\n",
        "import glob\n",
        "for i in range(5,28):\n",
        "    os.remove( '/content/media/nas/01_Datasets/CT/LITS/Training Batch 1/segmentation-'+str(i)+'.nii')\n",
        "    os.remove( '/content/media/nas/01_Datasets/CT/LITS/Training Batch 1/volume-'+str(i)+'.nii')"
      ],
      "execution_count": null,
      "outputs": []
    },
    {
      "cell_type": "code",
      "metadata": {
        "colab": {
          "base_uri": "https://localhost:8080/"
        },
        "id": "-2R5GPXYCRrf",
        "outputId": "cb20d19d-bc19-43c4-a3e7-5e8428d125b1"
      },
      "source": [
        "!pip install medpy"
      ],
      "execution_count": null,
      "outputs": [
        {
          "output_type": "stream",
          "text": [
            "Collecting medpy\n",
            "\u001b[?25l  Downloading https://files.pythonhosted.org/packages/3b/70/c1fd5dd60242eee81774696ea7ba4caafac2bad8f028bba94b1af83777d7/MedPy-0.4.0.tar.gz (151kB)\n",
            "\u001b[K     |████████████████████████████████| 153kB 11.6MB/s \n",
            "\u001b[?25hRequirement already satisfied: scipy>=1.1.0 in /usr/local/lib/python3.7/dist-packages (from medpy) (1.4.1)\n",
            "Requirement already satisfied: numpy>=1.11.0 in /usr/local/lib/python3.7/dist-packages (from medpy) (1.19.5)\n",
            "Collecting SimpleITK>=1.1.0\n",
            "\u001b[?25l  Downloading https://files.pythonhosted.org/packages/9c/6b/85df5eb3a8059b23a53a9f224476e75473f9bcc0a8583ed1a9c34619f372/SimpleITK-2.0.2-cp37-cp37m-manylinux2010_x86_64.whl (47.4MB)\n",
            "\u001b[K     |████████████████████████████████| 47.4MB 98kB/s \n",
            "\u001b[?25hBuilding wheels for collected packages: medpy\n",
            "  Building wheel for medpy (setup.py) ... \u001b[?25l\u001b[?25hdone\n",
            "  Created wheel for medpy: filename=MedPy-0.4.0-cp37-cp37m-linux_x86_64.whl size=754459 sha256=349b481085df830ace6af3ef4a330c4927526560f716e9ffe0ceecca28422483\n",
            "  Stored in directory: /root/.cache/pip/wheels/8c/c9/9c/2c6281c7a72b9fb1570862a4f028af7ce38405008354fbf870\n",
            "Successfully built medpy\n",
            "Installing collected packages: SimpleITK, medpy\n",
            "Successfully installed SimpleITK-2.0.2 medpy-0.4.0\n"
          ],
          "name": "stdout"
        }
      ]
    },
    {
      "cell_type": "code",
      "metadata": {
        "id": "AdyETJ9gDZAx"
      },
      "source": [
        "import shutil\n",
        "for path in glob.glob('/content/media/nas/01_Datasets/CT/LITS/Training Batch 1/segmentation-*'):\n",
        "  shutil.move(path,'/content/data/myTrainingData')\n",
        "for path in glob.glob('/content/media/nas/01_Datasets/CT/LITS/Training Batch 1/volume-*'):\n",
        "  shutil.move(path,'/content/data/myTrainingData')"
      ],
      "execution_count": null,
      "outputs": []
    },
    {
      "cell_type": "code",
      "metadata": {
        "colab": {
          "base_uri": "https://localhost:8080/"
        },
        "id": "LZ7XASa1CX6_",
        "outputId": "d14dd55b-00bd-423c-e63d-b924fa2d8e94"
      },
      "source": [
        "\n",
        "from medpy.io import load, save\n",
        "import os\n",
        "import os.path\n",
        "import numpy as np\n",
        "\n",
        "\n",
        "def proprecessing(image_path, save_folder):\n",
        "\n",
        "    if not os.path.exists(\"/content/data/\"+save_folder):\n",
        "        os.mkdir(\"/content/data/\"+save_folder)\n",
        "    filelist = os.listdir(image_path)\n",
        "    imagelist = [item for item in filelist if 'volume' in item]\n",
        "    seglist = [item for item in filelist if 'volume' in item]\n",
        "    for id in range(5):\n",
        "        img, img_header = load('/content/data/myTrainingData/volume-'+str(id)+'.nii')\n",
        "        seg, img_header = load('/content/data/myTrainingData/segmentation-'+str(id)+'.nii')\n",
        "        img[img < -200] = -200\n",
        "        img[img > 250] = 250\n",
        "        img = np.array(img, dtype='float32')\n",
        "        print (\"Saving image \"+str(id))\n",
        "        tot=np.concatenate([img,seg],-1)\n",
        "        np.save( \"/content/data/\" + save_folder + str(id),tot)\n",
        "\n",
        "def generate_livertxt(image_path, save_folder):\n",
        "    if not os.path.exists(\"/content/data/\"+save_folder):\n",
        "        os.mkdir(\"/content/data/\"+save_folder)\n",
        "\n",
        "    # Generate Livertxt\n",
        "    if not os.path.exists(\"/content/data/\"+save_folder+'LiverPixels'):\n",
        "        os.mkdir(\"/content/data/\"+save_folder+'LiverPixels')\n",
        "\n",
        "    for i in range(0,5):\n",
        "        livertumor, header = load(image_path+'segmentation-'+str(i)+'.nii')\n",
        "        f = open('/content/data/' +save_folder+'/LiverPixels/liver_' + str(i) + '.txt', 'w')\n",
        "        index = np.where(livertumor==1)\n",
        "        x = index[0]\n",
        "        y = index[1]\n",
        "        z = index[2]\n",
        "        np.savetxt(f, np.c_[x,y,z], fmt=\"%d\")\n",
        "\t\n",
        "        f.write(\"\\n\")\n",
        "        f.close()\n",
        "\n",
        "def generate_tumortxt(image_path, save_folder):\n",
        "    if not os.path.exists(\"/content/data/\"+save_folder):\n",
        "        os.mkdir(\"/content/data/\"+save_folder)\n",
        "\n",
        "    # Generate Livertxt\n",
        "    if not os.path.exists(\"/content/data/\"+save_folder+'TumorPixels'):\n",
        "        os.mkdir(\"/content/data/\"+save_folder+'TumorPixels')\n",
        "\n",
        "    for i in range(0,5):\n",
        "        livertumor, header = load(image_path+'segmentation-'+str(i)+'.nii')\n",
        "        f = open(\"/content/data/\"+save_folder+\"/TumorPixels/tumor_\"+str(i)+'.txt','w')\n",
        "        index = np.where(livertumor==2)\n",
        "\n",
        "        x = index[0]\n",
        "        y = index[1]\n",
        "        z = index[2]\n",
        "\n",
        "        np.savetxt(f,np.c_[x,y,z],fmt=\"%d\")\n",
        "\n",
        "        f.write(\"\\n\")\n",
        "        f.close()\n",
        "\n",
        "def generate_txt(image_path, save_folder):\n",
        "    if not os.path.exists(\"/content/data/\"+save_folder):\n",
        "        os.mkdir(\"/content/data/\"+save_folder)\n",
        "\n",
        "    # Generate Livertxt\n",
        "    if not os.path.exists(\"/content/data/\"+save_folder+'LiverBox'):\n",
        "        os.mkdir(\"/content/data/\"+save_folder+'LiverBox')\n",
        "    for i in range(0,5):\n",
        "        values = np.loadtxt('/content/data/myTrainingDataTxt/LiverPixels/liver_' + str(i) + '.txt', delimiter=' ', usecols=[0, 1, 2])\n",
        "        a = np.min(values, axis=0)\n",
        "        b = np.max(values, axis=0)\n",
        "        box = np.append(a,b, axis=0)\n",
        "        np.savetxt('/content/data/myTrainingDataTxt/LiverBox/box_'+str(i)+'.txt', box,fmt='%d')\n",
        "\n",
        "\n",
        "proprecessing(image_path='/content/data/myTrainingData/', save_folder='myTrainingData/')\n",
        "print (\"Generate liver txt \")\n",
        "generate_livertxt(image_path='/content/data/myTrainingData/', save_folder='myTrainingDataTxt/')\n",
        "print (\"Generate tumor txt\")\n",
        "generate_tumortxt(image_path='/content/data/myTrainingData/', save_folder='myTrainingDataTxt/')\n",
        "print (\"Generate liver box \")\n",
        "generate_txt(image_path='/content/data/myTrainingData/', save_folder='myTrainingDataTxt/')"
      ],
      "execution_count": null,
      "outputs": [
        {
          "output_type": "stream",
          "text": [
            "Saving image 0\n",
            "Saving image 1\n",
            "Saving image 2\n",
            "Saving image 3\n",
            "Saving image 4\n"
          ],
          "name": "stdout"
        }
      ]
    },
    {
      "cell_type": "code",
      "metadata": {
        "id": "Wbk9DhAVpwFW"
      },
      "source": [
        "\n",
        "def load_seq_crop_data_masktumor_try(Parameter_List):\n",
        "    img = Parameter_List[0]\n",
        "    tumor = Parameter_List[1]\n",
        "    lines = Parameter_List[2]\n",
        "    numid = Parameter_List[3]\n",
        "    minindex = Parameter_List[4]\n",
        "    maxindex = Parameter_List[5]\n",
        "    #  randomly scale\n",
        "    scale = np.random.uniform(0.8,1.2)\n",
        "    deps = int(args.input_size * scale)\n",
        "    rows = int(args.input_size * scale)\n",
        "    cols = args.input_cols\n",
        "\n",
        "    sed = np.random.randint(1,numid)\n",
        "    cen = lines[sed-1]\n",
        "    cen = np.fromstring(cen, dtype=int, sep=' ')\n",
        "    # print (cen)\n",
        "    a = min(max(minindex[0] + deps/2, cen[0]), maxindex[0]- deps/2-1)\n",
        "    b = min(max(minindex[1] + rows/2, cen[1]), maxindex[1]- rows/2-1)\n",
        "    c = min(max(minindex[2] + cols/2, cen[2]), maxindex[2]- cols/2-1)\n",
        "\n",
        "    #change\n",
        "    #TypeError: slice indices must be integers or None or have an __index__ method\n",
        "\n",
        "    # try:\n",
        "    if a < deps / 2:\n",
        "      a1=int((img.shape[0]/2)-(deps/2))\n",
        "      a2=int((img.shape[0]/2)+(deps/2))\n",
        "    else:\n",
        "      a1=int(a-deps/2)\n",
        "      a2=int(a+deps/2)\n",
        "    if b < rows / 2:\n",
        "      b1=int((img.shape[0]/2)-(rows/2))\n",
        "      b2=int((img.shape[0]/2)+(rows/2))\n",
        "    else:\n",
        "      b1=int(b-rows/2)\n",
        "      b2=int(b+rows/2)\n",
        "    if c < cols / 2:\n",
        "      c1=int((img.shape[0]/2)-(cols/2))\n",
        "      c2=int((img.shape[0]/2)+(cols/2))\n",
        "    else:\n",
        "      c1=int(c-cols/2)\n",
        "      c2=int(c+cols/2)\n",
        "\n",
        "    cropp_img = img[a1:a2, b1:b2,c1: c2+1].copy()\n",
        "\n",
        "  #\n",
        "    cropp_tumor = resize(cropp_tumor, (args.input_size,args.input_size, args.input_cols), order=0, mode='edge', cval=0, clip=True, preserve_range=True)\n",
        "    cropp_img   = resize(cropp_img, (args.input_size,args.input_size, args.input_cols), order=3, mode='constant', cval=0, clip=True, preserve_range=True)\n",
        "    return cropp_img, cropp_tumor\n",
        "    \n",
        "def generate_arrays_from_file(batch_size, trainidx, img_list, tumor_list, tumorlines, liverlines, tumoridx, liveridx, minindex_list, maxindex_list):\n",
        "        X = np.zeros((batch_size, args.input_size, args.input_size, args.input_cols,1), dtype='float32')\n",
        "        Parameter_List = []\n",
        "        for idx in range(batch_size):\n",
        "            count = np.random.choice(trainidx)\n",
        "            img = img_list[count]\n",
        "            tumor = tumor_list[count]\n",
        "            minindex = minindex_list[count]\n",
        "            maxindex = maxindex_list[count]\n",
        "            num = np.random.randint(0,6)\n",
        "            if num < 3 or (count in liverlist):\n",
        "                lines = liverlines[count]\n",
        "                numid = liveridx[count]\n",
        "            else:\n",
        "                lines = tumorlines[count]\n",
        "                numid = tumoridx[count]\n",
        "            Parameter_List.append([img, tumor, lines, numid, minindex, maxindex])\n",
        "        pool = ThreadPool(thread_num)\n",
        "        result_list = pool.map(load_seq_crop_data_masktumor_try, Parameter_List)\n",
        "        pool.close()\n",
        "        pool.join()\n",
        "        for idx in range(len(result_list)):\n",
        "            X[idx, :, :, :, 0] = result_list[idx][0]\n",
        "            Y[idx, :, :, :, 0] = result_list[idx][1]\n",
        "        if np.sum(Y==0)==0:\n",
        "            continue\n",
        "        if np.sum(Y==1)==0:\n",
        "            continue\n",
        "        if np.sum(Y==2)==0:\n",
        "            continue\n",
        "        yield (X,Y)"
      ],
      "execution_count": null,
      "outputs": []
    },
    {
      "cell_type": "code",
      "metadata": {
        "id": "5YTvHktdA99_"
      },
      "source": [
        "for idx in range(5):\n",
        "        img, img_header = load('/content/data/myTrainingData/volume-'+str(idx)+'.nii')\n",
        "        img_list.append(img)\n",
        "\n",
        "        maxmin = np.loadtxt('/content/data/myTrainingDataTxt/LiverBox/box_'+str(idx)+'.txt')\n",
        "        minindex = maxmin[0:3]\n",
        "        maxindex = maxmin[3:6]\n",
        "        minindex = np.array(minindex, dtype='int')\n",
        "        maxindex = np.array(maxindex, dtype='int')\n",
        "        minindex[0] = max(minindex[0]-3, 0)\n",
        "        minindex[1] = max(minindex[1]-3, 0)\n",
        "        minindex[2] = max(minindex[2]-3, 0)\n",
        "        maxindex[0] = min(img.shape[0], maxindex[0]+3)\n",
        "        maxindex[1] = min(img.shape[1], maxindex[1]+3)\n",
        "        maxindex[2] = min(img.shape[2], maxindex[2]+3)\n",
        "        minindex_list.append(minindex)\n",
        "        maxindex_list.append(maxindex)\n",
        "\n",
        "        f1 = open('/content/data/myTrainingDataTxt/TumorPixels/tumor_'+str(idx)+'.txt')\n",
        "        tumorline = f1.readlines()\n",
        "        tumorlines.append(tumorline)\n",
        "        tumoridx.append(len(tumorline))\n",
        "        f1.close()\n",
        "\n",
        "        f2 = open('/content/data/myTrainingDataTxt/LiverPixels/liver_'+str(idx)+'.txt')\n",
        "        liverline = f2.readlines()\n",
        "        liverlines.append(liverline)\n",
        "        liveridx.append(len(liverline))\n",
        "        f2.close()\n",
        "generate_arrays_from_file(1, trainidx, img_list, tumorlines, liverlines,\n",
        "                                                  tumoridx, liveridx, minindex_list, maxindex_list)"
      ],
      "execution_count": null,
      "outputs": []
    }
  ]
}
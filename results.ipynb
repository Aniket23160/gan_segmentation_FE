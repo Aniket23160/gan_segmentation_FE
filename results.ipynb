{
  "nbformat": 4,
  "nbformat_minor": 0,
  "metadata": {
    "colab": {
      "name": "results.ipynb",
      "private_outputs": true,
      "provenance": [],
      "authorship_tag": "ABX9TyPNL9pinhmtVUi9IfcMt8qm",
      "include_colab_link": true
    },
    "kernelspec": {
      "name": "python3",
      "display_name": "Python 3"
    },
    "language_info": {
      "name": "python"
    }
  },
  "cells": [
    {
      "cell_type": "markdown",
      "metadata": {
        "id": "view-in-github",
        "colab_type": "text"
      },
      "source": [
        "<a href=\"https://colab.research.google.com/github/greyhound101/gan_segmentation_FE/blob/main/results.ipynb\" target=\"_parent\"><img src=\"https://colab.research.google.com/assets/colab-badge.svg\" alt=\"Open In Colab\"/></a>"
      ]
    },
    {
      "cell_type": "code",
      "metadata": {
        "id": "eEazxRlDS4AL"
      },
      "source": [
        "from google.colab import drive\n",
        "drive.mount('/content/gdrive')\n",
        "drive.mount(\"/content/gdrive\", force_remount=True)"
      ],
      "execution_count": null,
      "outputs": []
    },
    {
      "cell_type": "code",
      "metadata": {
        "id": "htALoaOgS4g5"
      },
      "source": [
        "import zipfile\n",
        "with zipfile.ZipFile('/content/gdrive/MyDrive/segmentation/3ddirac/3Dircadb1.zip', 'r') as zip_ref:\n",
        "    zip_ref.extractall('/content/')"
      ],
      "execution_count": null,
      "outputs": []
    },
    {
      "cell_type": "code",
      "metadata": {
        "id": "nzpZihG7TB6u"
      },
      "source": [
        "import zipfile\n",
        "with zipfile.ZipFile('/content/gdrive/MyDrive/segmentation/3ddirac/3Dircadb2.zip', 'r') as zip_ref:\n",
        "    zip_ref.extractall('/content/')"
      ],
      "execution_count": null,
      "outputs": []
    },
    {
      "cell_type": "code",
      "metadata": {
        "id": "kTNVlIgBTMPX"
      },
      "source": [
        "import zipfile\n",
        "import glob\n",
        "for path in glob.glob('/content/3Dircadb*/MASKS_DICOM.zip'):\n",
        "  with zipfile.ZipFile(path, 'r') as zip_ref:\n",
        "    zip_ref.extractall('/'.join(path.split('/')[:-1]))"
      ],
      "execution_count": null,
      "outputs": []
    },
    {
      "cell_type": "code",
      "metadata": {
        "id": "JQl5ac3AUlOB"
      },
      "source": [
        "pip install pydicom"
      ],
      "execution_count": null,
      "outputs": []
    },
    {
      "cell_type": "code",
      "metadata": {
        "id": "SFJt_Itx5TLa"
      },
      "source": [
        "def dice(p,t):\n",
        "    i=np.sum(t*p)\n",
        "    u=np.sum(t)+np.sum(p)\n",
        "    d=(2*i+1)/(u+1)\n",
        "    return d"
      ],
      "execution_count": null,
      "outputs": []
    },
    {
      "cell_type": "code",
      "metadata": {
        "id": "hfyQsBXUWqo2"
      },
      "source": [
        "ls=[]\n",
        "import numpy as np\n",
        "from tqdm import tqdm \n",
        "import gc\n",
        "import pydicom\n",
        "for path in tqdm(glob.glob('/content/3Dircadb*')):\n",
        "  try:\n",
        "    id=path.split('/')[-1][8:]\n",
        "    predicted=np.load('/content/gdrive/MyDrive/resultstest-segmentation_0-'+id+'.npy')\n",
        "    print(np.unique(predicted))\n",
        "    predicted[predicted==2]=1\n",
        "    image=[]\n",
        "    for i in range(len(glob.glob('/content/3Dircadb'+id+'/MASKS_DICOM/liver/*'))):\n",
        "        image.append(pydicom.dcmread('/content/3Dircadb'+id+'/MASKS_DICOM/liver/image_'+str(i)).pixel_array)\n",
        "    image=np.asarray(image)\n",
        "    image[image==255]=1\n",
        "    image=np.swapaxes(image,0,1)\n",
        "    image=np.swapaxes(image,1,2)\n",
        "    ls.append(dice(predicted.astype('float64'),image.astype('float64')))\n",
        "    del([predicted,image])\n",
        "    gc.collect()\n",
        "  except:\n",
        "    continue"
      ],
      "execution_count": null,
      "outputs": []
    },
    {
      "cell_type": "code",
      "metadata": {
        "id": "u77m9IDmAq1g"
      },
      "source": [
        "from statistics import *\n",
        "mean(ls)"
      ],
      "execution_count": null,
      "outputs": []
    },
    {
      "cell_type": "code",
      "metadata": {
        "id": "_69llj1NDGFM"
      },
      "source": [
        "/content/3Dircadb1.8/MASKS_DICOM/livertumor01"
      ],
      "execution_count": null,
      "outputs": []
    },
    {
      "cell_type": "code",
      "metadata": {
        "id": "ou5V74DG8CcD"
      },
      "source": [
        "id='1.9'\n",
        "image=[]\n",
        "for i in range(len(glob.glob('/content/3Dircadb'+id+'/MASKS_DICOM/liver/*'))):\n",
        "        image.append(pydicom.dcmread('/content/3Dircadb'+id+'/MASKS_DICOM/livertumor/image_'+str(i)).pixel_array)\n",
        "        "
      ],
      "execution_count": null,
      "outputs": []
    },
    {
      "cell_type": "code",
      "metadata": {
        "id": "-81zqJxu8870"
      },
      "source": [
        "image=np.asarray(image)"
      ],
      "execution_count": null,
      "outputs": []
    },
    {
      "cell_type": "code",
      "metadata": {
        "id": "MeQ5A3Z29HbG"
      },
      "source": [
        "predicted=np.load('/content/gdrive/MyDrive/resultstest-segmentation_0-'+id+'.npy')"
      ],
      "execution_count": null,
      "outputs": []
    },
    {
      "cell_type": "code",
      "metadata": {
        "id": "cQIki7uA9Nu4"
      },
      "source": [
        "predicted[predicted==1]=0\n",
        "predicted[predicted==2]=1\n",
        "predicted.shape,image.shape"
      ],
      "execution_count": null,
      "outputs": []
    },
    {
      "cell_type": "code",
      "metadata": {
        "id": "X5QBBUIA9UVE"
      },
      "source": [
        "predicted=np.swapaxes(predicted,2,1)\n",
        "predicted=np.swapaxes(predicted,1,0)\n",
        "predicted.shape,image.shape"
      ],
      "execution_count": null,
      "outputs": []
    },
    {
      "cell_type": "code",
      "metadata": {
        "id": "W5NA6Luo9yT3"
      },
      "source": [
        "np.unique(predicted),np.unique(image)"
      ],
      "execution_count": null,
      "outputs": []
    },
    {
      "cell_type": "code",
      "metadata": {
        "id": "mcplJaro-zde"
      },
      "source": [
        "image[image==255]=1"
      ],
      "execution_count": null,
      "outputs": []
    },
    {
      "cell_type": "code",
      "metadata": {
        "id": "jOMJ_cUOBgcr"
      },
      "source": [
        "np.unique(predicted),np.unique(image)"
      ],
      "execution_count": null,
      "outputs": []
    },
    {
      "cell_type": "code",
      "metadata": {
        "id": "OMP0Hgn48-hQ"
      },
      "source": [
        "dice(predicted.astype('float64'),image.astype('float64'))"
      ],
      "execution_count": null,
      "outputs": []
    },
    {
      "cell_type": "code",
      "metadata": {
        "id": "botUV6WT_Fde"
      },
      "source": [
        "mean([0.05318211113498137,0.01132720994459738,0.01044377099907497,0.3492335037104727,0.0001303353668181341,0.010181741785949907,0.010878060396609388,0.015199588840988792,0.10675442474169407,0.006250077446162869,0.14638443460452932,0.004859442086377866,0.12730718785323952,0.014324338165226927,0.09979134178395034,0.0021237628125696686])"
      ],
      "execution_count": null,
      "outputs": []
    },
    {
      "cell_type": "code",
      "metadata": {
        "id": "aLfrWCKF_wzw"
      },
      "source": [
        "# tumor:0.0605232082295777\n",
        "# liver:0.11625591548152235"
      ],
      "execution_count": null,
      "outputs": []
    },
    {
      "cell_type": "code",
      "metadata": {
        "id": "1JK08SFpA4x4"
      },
      "source": [
        ""
      ],
      "execution_count": null,
      "outputs": []
    },
    {
      "cell_type": "code",
      "metadata": {
        "id": "fGVvJsgtA4ur"
      },
      "source": [
        ""
      ],
      "execution_count": null,
      "outputs": []
    },
    {
      "cell_type": "code",
      "metadata": {
        "id": "ffqu6aZcA4rt"
      },
      "source": [
        ""
      ],
      "execution_count": null,
      "outputs": []
    },
    {
      "cell_type": "code",
      "metadata": {
        "id": "bf-bLFh0A4or"
      },
      "source": [
        ""
      ],
      "execution_count": null,
      "outputs": []
    }
  ]
}
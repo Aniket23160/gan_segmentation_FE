{
  "nbformat": 4,
  "nbformat_minor": 0,
  "metadata": {
    "colab": {
      "name": "results.ipynb",
      "private_outputs": true,
      "provenance": [],
      "authorship_tag": "ABX9TyNJ9X1iw4Qj0hHqWKIV29QD",
      "include_colab_link": true
    },
    "kernelspec": {
      "name": "python3",
      "display_name": "Python 3"
    },
    "language_info": {
      "name": "python"
    }
  },
  "cells": [
    {
      "cell_type": "markdown",
      "metadata": {
        "id": "view-in-github",
        "colab_type": "text"
      },
      "source": [
        "<a href=\"https://colab.research.google.com/github/greyhound101/gan_segmentation_FE/blob/main/results.ipynb\" target=\"_parent\"><img src=\"https://colab.research.google.com/assets/colab-badge.svg\" alt=\"Open In Colab\"/></a>"
      ]
    },
    {
      "cell_type": "code",
      "metadata": {
        "id": "eEazxRlDS4AL"
      },
      "source": [
        "from google.colab import drive\n",
        "drive.mount('/content/gdrive')\n",
        "drive.mount(\"/content/gdrive\", force_remount=True)"
      ],
      "execution_count": null,
      "outputs": []
    },
    {
      "cell_type": "code",
      "metadata": {
        "id": "htALoaOgS4g5"
      },
      "source": [
        "import zipfile\n",
        "with zipfile.ZipFile('/content/gdrive/MyDrive/segmentation/3ddirac/3Dircadb1.zip', 'r') as zip_ref:\n",
        "    zip_ref.extractall('/content/')"
      ],
      "execution_count": null,
      "outputs": []
    },
    {
      "cell_type": "code",
      "metadata": {
        "id": "nzpZihG7TB6u"
      },
      "source": [
        "import zipfile\n",
        "with zipfile.ZipFile('/content/gdrive/MyDrive/segmentation/3ddirac/3Dircadb2.zip', 'r') as zip_ref:\n",
        "    zip_ref.extractall('/content/')"
      ],
      "execution_count": null,
      "outputs": []
    },
    {
      "cell_type": "code",
      "metadata": {
        "id": "kTNVlIgBTMPX"
      },
      "source": [
        "import zipfile\n",
        "import glob\n",
        "for path in glob.glob('/content/3Dircadb*/MASKS_DICOM.zip'):\n",
        "  with zipfile.ZipFile(path, 'r') as zip_ref:\n",
        "    zip_ref.extractall('/'.join(path.split('/')[:-1]))"
      ],
      "execution_count": null,
      "outputs": []
    },
    {
      "cell_type": "code",
      "metadata": {
        "id": "JQl5ac3AUlOB"
      },
      "source": [
        "pip install pydicom"
      ],
      "execution_count": null,
      "outputs": []
    },
    {
      "cell_type": "code",
      "metadata": {
        "id": "aLpoHBqSW1sU"
      },
      "source": [
        "len('3Dircadb1')"
      ],
      "execution_count": null,
      "outputs": []
    },
    {
      "cell_type": "code",
      "metadata": {
        "id": "hfyQsBXUWqo2"
      },
      "source": [
        "ls=[]\n",
        "from tqdm import tqdm \n",
        "import gc\n",
        "for path in tqdm(glob.glob('/content/3Dircadb*')):\n",
        "  id=path.split('/')[-1][8:]\n",
        "  predicted=np.load('/content/gdrive/MyDrive/resultstest-segmentation-'+id+'.npy')\n",
        "  image=[]\n",
        "  for i in range(len(glob.glob('/content/3Dircadb'+id+'/MASKS_DICOM/liver/*'))):\n",
        "      image.append(pydicom.dcmread('/content/3Dircadb'+id+'/MASKS_DICOM/liver/image_'+str(i)).pixel_array)\n",
        "  image=np.asarray(image)\n",
        "  image[image==255]=1\n",
        "  image=np.swapaxes(image,0,1)\n",
        "  image=np.swapaxes(image,1,2)\n",
        "  ls.append(dice(predicted.astype('float64'),image.astype('float64')))\n",
        "  del([predicted,image])\n",
        "  gc.collect()"
      ],
      "execution_count": null,
      "outputs": []
    },
    {
      "cell_type": "code",
      "metadata": {
        "id": "rQaz4wfnTCpN"
      },
      "source": [
        "from statistics import mean"
      ],
      "execution_count": null,
      "outputs": []
    },
    {
      "cell_type": "code",
      "metadata": {
        "id": "uc-d4Jx1ZUKq"
      },
      "source": [
        "mean([0.1276524757142667,0.08705659933136867,0.07340996928611443,0.1813856931180304,0.147208573026934,0.09388155162210408,0.1334837349412051,0.1305257012003414,0.0747946471540296,0.11237359592879369,0.0991524926845694,0.13113179121704371,0.10215254926763914,0.17350126583048758,0.1592428922437994,0.09829905962585964,0.11952342590613935,0.1032011552203463,0.08338143411171219,0.1259762583575652,0.12510388344830073,0.10729634530832084])"
      ],
      "execution_count": null,
      "outputs": []
    },
    {
      "cell_type": "code",
      "metadata": {
        "id": "pWAjyTfeU8jI"
      },
      "source": [
        "0.11771523157022598"
      ],
      "execution_count": null,
      "outputs": []
    },
    {
      "cell_type": "code",
      "metadata": {
        "id": "dKFVC_iSVsbW"
      },
      "source": [
        ""
      ],
      "execution_count": null,
      "outputs": []
    }
  ]
}
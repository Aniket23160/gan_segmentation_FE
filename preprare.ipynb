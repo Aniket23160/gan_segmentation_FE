{
  "nbformat": 4,
  "nbformat_minor": 0,
  "metadata": {
    "colab": {
      "name": "preprare.ipynb",
      "provenance": [],
      "authorship_tag": "ABX9TyM6Pi8gEzr/KNuseS4G/7wR",
      "include_colab_link": true
    },
    "kernelspec": {
      "name": "python3",
      "display_name": "Python 3"
    },
    "language_info": {
      "name": "python"
    }
  },
  "cells": [
    {
      "cell_type": "markdown",
      "metadata": {
        "id": "view-in-github",
        "colab_type": "text"
      },
      "source": [
        "<a href=\"https://colab.research.google.com/github/greyhound101/coco/blob/main/preprare.ipynb\" target=\"_parent\"><img src=\"https://colab.research.google.com/assets/colab-badge.svg\" alt=\"Open In Colab\"/></a>"
      ]
    },
    {
      "cell_type": "code",
      "metadata": {
        "colab": {
          "base_uri": "https://localhost:8080/"
        },
        "id": "n_DsPRu2rxN9",
        "outputId": "ade97779-5c33-4623-9fe9-ca6794b35c90"
      },
      "source": [
        "\n",
        "from google.colab import drive\n",
        "drive.mount('/content/gdrive')\n",
        "drive.mount(\"/content/gdrive\", force_remount=True)"
      ],
      "execution_count": 1,
      "outputs": [
        {
          "output_type": "stream",
          "text": [
            "Mounted at /content/gdrive\n",
            "Mounted at /content/gdrive\n"
          ],
          "name": "stdout"
        }
      ]
    },
    {
      "cell_type": "code",
      "metadata": {
        "colab": {
          "base_uri": "https://localhost:8080/",
          "height": 336
        },
        "id": "_1uGbjeMrxtd",
        "outputId": "843b3a78-17d5-4852-f447-c459ba163730"
      },
      "source": [
        "import shutil\n",
        "shutil.copy('/content/gdrive/MyDrive/coco/VOCtest_06-Nov-2007.tar','/content/')\n",
        "shutil.copy('/content/gdrive/MyDrive/coco/VOCtrainval_06-Nov-2007.tar','/content/')\n",
        "shutil.copy('/content/gdrive/MyDrive/coco/VOCtrainval_11-May-2012.tar','/content/')"
      ],
      "execution_count": 3,
      "outputs": [
        {
          "output_type": "error",
          "ename": "FileNotFoundError",
          "evalue": "ignored",
          "traceback": [
            "\u001b[0;31m---------------------------------------------------------------------------\u001b[0m",
            "\u001b[0;31mFileNotFoundError\u001b[0m                         Traceback (most recent call last)",
            "\u001b[0;32m<ipython-input-3-5918811c8bbe>\u001b[0m in \u001b[0;36m<module>\u001b[0;34m()\u001b[0m\n\u001b[1;32m      3\u001b[0m \u001b[0mshutil\u001b[0m\u001b[0;34m.\u001b[0m\u001b[0mcopy\u001b[0m\u001b[0;34m(\u001b[0m\u001b[0;34m'/content/gdrive/MyDrive/coco/VOCtrainval_06-Nov-2007.tar'\u001b[0m\u001b[0;34m,\u001b[0m\u001b[0;34m'/content/'\u001b[0m\u001b[0;34m)\u001b[0m\u001b[0;34m\u001b[0m\u001b[0;34m\u001b[0m\u001b[0m\n\u001b[1;32m      4\u001b[0m \u001b[0mshutil\u001b[0m\u001b[0;34m.\u001b[0m\u001b[0mcopy\u001b[0m\u001b[0;34m(\u001b[0m\u001b[0;34m'/content/gdrive/MyDrive/coco/VOCtrainval_11-May-2012.tar'\u001b[0m\u001b[0;34m,\u001b[0m\u001b[0;34m'/content/'\u001b[0m\u001b[0;34m)\u001b[0m\u001b[0;34m\u001b[0m\u001b[0;34m\u001b[0m\u001b[0m\n\u001b[0;32m----> 5\u001b[0;31m \u001b[0mshutil\u001b[0m\u001b[0;34m.\u001b[0m\u001b[0mcopy\u001b[0m\u001b[0;34m(\u001b[0m\u001b[0;34m'/content/gdrive/MyDrive/coco/annotations_trainval2017.zip.tar'\u001b[0m\u001b[0;34m,\u001b[0m\u001b[0;34m'/content/'\u001b[0m\u001b[0;34m)\u001b[0m\u001b[0;34m\u001b[0m\u001b[0;34m\u001b[0m\u001b[0m\n\u001b[0m",
            "\u001b[0;32m/usr/lib/python3.7/shutil.py\u001b[0m in \u001b[0;36mcopy\u001b[0;34m(src, dst, follow_symlinks)\u001b[0m\n\u001b[1;32m    246\u001b[0m     \u001b[0;32mif\u001b[0m \u001b[0mos\u001b[0m\u001b[0;34m.\u001b[0m\u001b[0mpath\u001b[0m\u001b[0;34m.\u001b[0m\u001b[0misdir\u001b[0m\u001b[0;34m(\u001b[0m\u001b[0mdst\u001b[0m\u001b[0;34m)\u001b[0m\u001b[0;34m:\u001b[0m\u001b[0;34m\u001b[0m\u001b[0;34m\u001b[0m\u001b[0m\n\u001b[1;32m    247\u001b[0m         \u001b[0mdst\u001b[0m \u001b[0;34m=\u001b[0m \u001b[0mos\u001b[0m\u001b[0;34m.\u001b[0m\u001b[0mpath\u001b[0m\u001b[0;34m.\u001b[0m\u001b[0mjoin\u001b[0m\u001b[0;34m(\u001b[0m\u001b[0mdst\u001b[0m\u001b[0;34m,\u001b[0m \u001b[0mos\u001b[0m\u001b[0;34m.\u001b[0m\u001b[0mpath\u001b[0m\u001b[0;34m.\u001b[0m\u001b[0mbasename\u001b[0m\u001b[0;34m(\u001b[0m\u001b[0msrc\u001b[0m\u001b[0;34m)\u001b[0m\u001b[0;34m)\u001b[0m\u001b[0;34m\u001b[0m\u001b[0;34m\u001b[0m\u001b[0m\n\u001b[0;32m--> 248\u001b[0;31m     \u001b[0mcopyfile\u001b[0m\u001b[0;34m(\u001b[0m\u001b[0msrc\u001b[0m\u001b[0;34m,\u001b[0m \u001b[0mdst\u001b[0m\u001b[0;34m,\u001b[0m \u001b[0mfollow_symlinks\u001b[0m\u001b[0;34m=\u001b[0m\u001b[0mfollow_symlinks\u001b[0m\u001b[0;34m)\u001b[0m\u001b[0;34m\u001b[0m\u001b[0;34m\u001b[0m\u001b[0m\n\u001b[0m\u001b[1;32m    249\u001b[0m     \u001b[0mcopymode\u001b[0m\u001b[0;34m(\u001b[0m\u001b[0msrc\u001b[0m\u001b[0;34m,\u001b[0m \u001b[0mdst\u001b[0m\u001b[0;34m,\u001b[0m \u001b[0mfollow_symlinks\u001b[0m\u001b[0;34m=\u001b[0m\u001b[0mfollow_symlinks\u001b[0m\u001b[0;34m)\u001b[0m\u001b[0;34m\u001b[0m\u001b[0;34m\u001b[0m\u001b[0m\n\u001b[1;32m    250\u001b[0m     \u001b[0;32mreturn\u001b[0m \u001b[0mdst\u001b[0m\u001b[0;34m\u001b[0m\u001b[0;34m\u001b[0m\u001b[0m\n",
            "\u001b[0;32m/usr/lib/python3.7/shutil.py\u001b[0m in \u001b[0;36mcopyfile\u001b[0;34m(src, dst, follow_symlinks)\u001b[0m\n\u001b[1;32m    118\u001b[0m         \u001b[0mos\u001b[0m\u001b[0;34m.\u001b[0m\u001b[0msymlink\u001b[0m\u001b[0;34m(\u001b[0m\u001b[0mos\u001b[0m\u001b[0;34m.\u001b[0m\u001b[0mreadlink\u001b[0m\u001b[0;34m(\u001b[0m\u001b[0msrc\u001b[0m\u001b[0;34m)\u001b[0m\u001b[0;34m,\u001b[0m \u001b[0mdst\u001b[0m\u001b[0;34m)\u001b[0m\u001b[0;34m\u001b[0m\u001b[0;34m\u001b[0m\u001b[0m\n\u001b[1;32m    119\u001b[0m     \u001b[0;32melse\u001b[0m\u001b[0;34m:\u001b[0m\u001b[0;34m\u001b[0m\u001b[0;34m\u001b[0m\u001b[0m\n\u001b[0;32m--> 120\u001b[0;31m         \u001b[0;32mwith\u001b[0m \u001b[0mopen\u001b[0m\u001b[0;34m(\u001b[0m\u001b[0msrc\u001b[0m\u001b[0;34m,\u001b[0m \u001b[0;34m'rb'\u001b[0m\u001b[0;34m)\u001b[0m \u001b[0;32mas\u001b[0m \u001b[0mfsrc\u001b[0m\u001b[0;34m:\u001b[0m\u001b[0;34m\u001b[0m\u001b[0;34m\u001b[0m\u001b[0m\n\u001b[0m\u001b[1;32m    121\u001b[0m             \u001b[0;32mwith\u001b[0m \u001b[0mopen\u001b[0m\u001b[0;34m(\u001b[0m\u001b[0mdst\u001b[0m\u001b[0;34m,\u001b[0m \u001b[0;34m'wb'\u001b[0m\u001b[0;34m)\u001b[0m \u001b[0;32mas\u001b[0m \u001b[0mfdst\u001b[0m\u001b[0;34m:\u001b[0m\u001b[0;34m\u001b[0m\u001b[0;34m\u001b[0m\u001b[0m\n\u001b[1;32m    122\u001b[0m                 \u001b[0mcopyfileobj\u001b[0m\u001b[0;34m(\u001b[0m\u001b[0mfsrc\u001b[0m\u001b[0;34m,\u001b[0m \u001b[0mfdst\u001b[0m\u001b[0;34m)\u001b[0m\u001b[0;34m\u001b[0m\u001b[0;34m\u001b[0m\u001b[0m\n",
            "\u001b[0;31mFileNotFoundError\u001b[0m: [Errno 2] No such file or directory: '/content/gdrive/MyDrive/coco/annotations_trainval2017.zip.tar'"
          ]
        }
      ]
    },
    {
      "cell_type": "code",
      "metadata": {
        "colab": {
          "base_uri": "https://localhost:8080/",
          "height": 35
        },
        "id": "g3bizb95sRAG",
        "outputId": "678e2155-19c8-40c1-832e-fd55a0d15c8b"
      },
      "source": [
        "shutil.copy('/content/gdrive/MyDrive/coco/annotations_trainval2017.zip','/content/')\n",
        "shutil.copy('/content/gdrive/MyDrive/coco/voc_label.py','/content/')"
      ],
      "execution_count": 4,
      "outputs": [
        {
          "output_type": "execute_result",
          "data": {
            "application/vnd.google.colaboratory.intrinsic+json": {
              "type": "string"
            },
            "text/plain": [
              "'/content/voc_label.py'"
            ]
          },
          "metadata": {
            "tags": []
          },
          "execution_count": 4
        }
      ]
    },
    {
      "cell_type": "code",
      "metadata": {
        "id": "HGfxDXNjsiDV"
      },
      "source": [
        "import zipfile\n",
        "with zipfile.ZipFile('/content/annotations_trainval2017.zip', 'r') as zip_ref:\n",
        "    zip_ref.extractall('/content/')"
      ],
      "execution_count": 10,
      "outputs": []
    },
    {
      "cell_type": "code",
      "metadata": {
        "id": "HQOx1D5qswR9"
      },
      "source": [
        "import tarfile\n",
        "paths=['/content/VOCtest_06-Nov-2007.tar',\n",
        "       '/content/VOCtrainval_06-Nov-2007.tar',\n",
        "       '/content/VOCtrainval_11-May-2012.tar']\n",
        "for fname in paths:\n",
        "  tar = tarfile.open(fname, \"r:\")\n",
        "  tar.extractall()\n",
        "  tar.close()"
      ],
      "execution_count": 11,
      "outputs": []
    },
    {
      "cell_type": "code",
      "metadata": {
        "id": "WRHo2FVMt2JO"
      },
      "source": [
        "!python voc_label.py"
      ],
      "execution_count": 12,
      "outputs": []
    },
    {
      "cell_type": "code",
      "metadata": {
        "id": "ZrxdJyQguRig"
      },
      "source": [
        "import xml.etree.ElementTree as ET\n",
        "import pickle\n",
        "import os\n",
        "from os import listdir, getcwd\n",
        "from os.path import join\n",
        "import argparse\n",
        "\n",
        "\n",
        "# parser = argparse.ArgumentParser()\n",
        "# parser.add_argument('--type', type=str, choices=['1c', 'all'], required=True)\n",
        "# args = parser.parse_args()\n",
        "\n",
        "\n",
        "sets=[('2012', 'train'), ('2012', 'val'), ('2007', 'train'), ('2007', 'val'), ('2007', 'test')]\n",
        "\n",
        "classes = [\"aeroplane\", \"bicycle\", \"bird\", \"boat\", \"bottle\", \"bus\", \"car\", \"cat\", \"chair\", \"cow\", \"diningtable\", \"dog\", \"horse\", \"motorbike\", \"person\", \"pottedplant\", \"sheep\", \"sofa\", \"train\", \"tvmonitor\"]\n",
        "\n",
        "def convert(size, box):\n",
        "    dw = 1./size[0]\n",
        "    dh = 1./size[1]\n",
        "    x = (box[0] + box[1])/2.0\n",
        "    y = (box[2] + box[3])/2.0\n",
        "    w = box[1] - box[0]\n",
        "    h = box[3] - box[2]\n",
        "    x = x*dw\n",
        "    w = w*dw\n",
        "    y = y*dh\n",
        "    h = h*dh\n",
        "    return (x,y,w,h)\n",
        "\n",
        "def convert_annotation(year, image_id, class_name):\n",
        "    in_file = open('VOCdevkit/VOC%s/Annotations/%s.xml'%(year, image_id))\n",
        "    out_file = open('VOCdevkit/VOC%s/labels_1c/%s/%s.txt'%(year, class_name, image_id), 'w')\n",
        "    tree=ET.parse(in_file)\n",
        "    root = tree.getroot()\n",
        "    size = root.find('size')\n",
        "    w = int(size.find('width').text)\n",
        "    h = int(size.find('height').text)\n",
        "\n",
        "    for obj in root.iter('object'):\n",
        "        difficult = obj.find('difficult').text\n",
        "        cls = obj.find('name').text\n",
        "        if cls != class_name or int(difficult) == 1:\n",
        "            continue\n",
        "        # cls_id = classes.index(cls)\n",
        "        cls_id = 0\n",
        "        xmlbox = obj.find('bndbox')\n",
        "        b = (float(xmlbox.find('xmin').text), float(xmlbox.find('xmax').text), float(xmlbox.find('ymin').text), float(xmlbox.find('ymax').text))\n",
        "        bb = convert((w,h), b)\n",
        "        out_file.write(str(cls_id) + \" \" + \" \".join([str(a) for a in bb]) + '\\n')\n",
        "\n",
        "\n",
        "wd = getcwd()\n",
        "\n",
        "if not os.path.exists('voclist'):\n",
        "    os.mkdir('voclist')\n",
        "\n",
        "for class_name in classes:\n",
        "    for year, image_set in sets:\n",
        "        image_ids = open('VOCdevkit/VOC%s/ImageSets/Main/%s_%s.txt'%(year, class_name, image_set)).read().strip().split()\n",
        "        ids, flags = image_ids[::2], image_ids[1::2]\n",
        "        image_ids = list(zip(ids, flags))\n",
        "\n",
        "        # File to save the image path list\n",
        "        list_file = open('voclist/%s_%s_%s.txt'%(year, class_name, image_set), 'w')\n",
        "\n",
        "        # File to save the image labels\n",
        "        label_dir = 'labels_1c/' + class_name\n",
        "        if not os.path.exists('VOCdevkit/VOC%s/%s/'%(year, label_dir)):\n",
        "            os.makedirs('VOCdevkit/VOC%s/%s/'%(year, label_dir))\n",
        "\n",
        "        # Traverse all images\n",
        "        for image_id, flag in image_ids:\n",
        "            if int(flag) == -1:\n",
        "                continue\n",
        "            list_file.write('%s/VOCdevkit/VOC%s/JPEGImages/%s.jpg\\n'%(wd, year, image_id))\n",
        "            convert_annotation(year, image_id, class_name)\n",
        "        list_file.close()\n",
        "\n",
        "    files = [\n",
        "        'voclist/2007_{}_train.txt'.format(class_name),\n",
        "        'voclist/2007_{}_val.txt'.format(class_name),\n",
        "        'voclist/2012_{}_*.txt'.format(class_name)\n",
        "    ]\n",
        "    files = ' '.join(files)\n",
        "    cmd = 'cat ' + files + '> voclist/{}_train.txt'.format(class_name)\n",
        "    os.system(cmd)"
      ],
      "execution_count": 13,
      "outputs": []
    },
    {
      "cell_type": "code",
      "metadata": {
        "colab": {
          "base_uri": "https://localhost:8080/",
          "height": 245
        },
        "id": "N8ve7wNxxyHt",
        "outputId": "74aa276e-16ef-4e6f-d012-1828aa041465"
      },
      "source": [
        "import argparse\n",
        "import random\n",
        "import os\n",
        "import numpy as np\n",
        "from os import path\n",
        "droot='/content'\n",
        "\n",
        "droot = droot.rstrip('/')\n",
        "tgt_folder = path.join(droot, 'voclist')\n",
        "src_folder = 'data/vocsplit'\n",
        "\n",
        "print('===> Converting few-shot name lists.. ')\n",
        "for name_list in sorted(os.listdir(src_folder)):\n",
        "    print('  | On ' + name_list)\n",
        "    # Read from src\n",
        "    with open(path.join(src_folder, name_list), 'r') as f:\n",
        "        names = f.readlines()\n",
        "    \n",
        "    # Replace data root\n",
        "    names = [name.replace('/scratch/bykang/datasets', droot) \n",
        "             for name in names]\n",
        "    \n",
        "    with open(path.join(droot, 'voclist', name_list), 'w') as f:\n",
        "        f.writelines(names)\n",
        "\n",
        "print('===> Converting class to namelist dict file ...')\n",
        "for fname in ['voc_traindict_full.txt',\n",
        "              'voc_traindict_bbox_1shot.txt',\n",
        "              'voc_traindict_bbox_2shot.txt',\n",
        "              'voc_traindict_bbox_3shot.txt',\n",
        "              'voc_traindict_bbox_5shot.txt',\n",
        "              'voc_traindict_bbox_10shot.txt']: \n",
        "    full_name = path.join('data', fname)\n",
        "    print('  | On ' + full_name)\n",
        "    # Read lines\n",
        "    with open(full_name, 'r') as f:\n",
        "        lines = f.readlines()\n",
        "\n",
        "    # Replace data root\n",
        "    lines = [line.replace('/scratch/bykang/datasets', droot) \n",
        "             for line in lines]\n",
        "\n",
        "    # Rewrite linea\n",
        "    with open(full_name, 'w') as f:\n",
        "        f.writelines(lines)\n",
        "\n",
        "print('===> Finished!')"
      ],
      "execution_count": 19,
      "outputs": [
        {
          "output_type": "stream",
          "text": [
            "===> Converting few-shot name lists.. \n"
          ],
          "name": "stdout"
        },
        {
          "output_type": "error",
          "ename": "FileNotFoundError",
          "evalue": "ignored",
          "traceback": [
            "\u001b[0;31m---------------------------------------------------------------------------\u001b[0m",
            "\u001b[0;31mFileNotFoundError\u001b[0m                         Traceback (most recent call last)",
            "\u001b[0;32m<ipython-input-19-3777ef5da015>\u001b[0m in \u001b[0;36m<module>\u001b[0;34m()\u001b[0m\n\u001b[1;32m     11\u001b[0m \u001b[0;34m\u001b[0m\u001b[0m\n\u001b[1;32m     12\u001b[0m \u001b[0mprint\u001b[0m\u001b[0;34m(\u001b[0m\u001b[0;34m'===> Converting few-shot name lists.. '\u001b[0m\u001b[0;34m)\u001b[0m\u001b[0;34m\u001b[0m\u001b[0;34m\u001b[0m\u001b[0m\n\u001b[0;32m---> 13\u001b[0;31m \u001b[0;32mfor\u001b[0m \u001b[0mname_list\u001b[0m \u001b[0;32min\u001b[0m \u001b[0msorted\u001b[0m\u001b[0;34m(\u001b[0m\u001b[0mos\u001b[0m\u001b[0;34m.\u001b[0m\u001b[0mlistdir\u001b[0m\u001b[0;34m(\u001b[0m\u001b[0msrc_folder\u001b[0m\u001b[0;34m)\u001b[0m\u001b[0;34m)\u001b[0m\u001b[0;34m:\u001b[0m\u001b[0;34m\u001b[0m\u001b[0;34m\u001b[0m\u001b[0m\n\u001b[0m\u001b[1;32m     14\u001b[0m     \u001b[0mprint\u001b[0m\u001b[0;34m(\u001b[0m\u001b[0;34m'  | On '\u001b[0m \u001b[0;34m+\u001b[0m \u001b[0mname_list\u001b[0m\u001b[0;34m)\u001b[0m\u001b[0;34m\u001b[0m\u001b[0;34m\u001b[0m\u001b[0m\n\u001b[1;32m     15\u001b[0m     \u001b[0;31m# Read from src\u001b[0m\u001b[0;34m\u001b[0m\u001b[0;34m\u001b[0m\u001b[0;34m\u001b[0m\u001b[0m\n",
            "\u001b[0;31mFileNotFoundError\u001b[0m: [Errno 2] No such file or directory: 'data/vocsplit'"
          ]
        }
      ]
    },
    {
      "cell_type": "code",
      "metadata": {
        "id": "9DovPtUIyyKy"
      },
      "source": [
        ""
      ],
      "execution_count": null,
      "outputs": []
    }
  ]
}
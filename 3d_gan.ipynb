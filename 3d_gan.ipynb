{
  "nbformat": 4,
  "nbformat_minor": 0,
  "metadata": {
    "colab": {
      "name": "3d_gan.ipynb",
      "provenance": [],
      "authorship_tag": "ABX9TyNicm+Rap1ueLYHjheCvsi2",
      "include_colab_link": true
    },
    "kernelspec": {
      "name": "python3",
      "display_name": "Python 3"
    },
    "language_info": {
      "name": "python"
    },
    "accelerator": "GPU"
  },
  "cells": [
    {
      "cell_type": "markdown",
      "metadata": {
        "id": "view-in-github",
        "colab_type": "text"
      },
      "source": [
        "<a href=\"https://colab.research.google.com/github/greyhound101/gan_segmentation_FE/blob/main/3d_gan.ipynb\" target=\"_parent\"><img src=\"https://colab.research.google.com/assets/colab-badge.svg\" alt=\"Open In Colab\"/></a>"
      ]
    },
    {
      "cell_type": "code",
      "metadata": {
        "colab": {
          "base_uri": "https://localhost:8080/"
        },
        "id": "ue-2UyyF-OhA",
        "outputId": "c70bc33f-718d-4759-d86d-ecf06b23de44"
      },
      "source": [
        "from google.colab import drive\n",
        "drive.mount('/content/gdrive')\n",
        "drive.mount(\"/content/gdrive\", force_remount=True)"
      ],
      "execution_count": 4,
      "outputs": [
        {
          "output_type": "stream",
          "text": [
            "Mounted at /content/gdrive\n",
            "Mounted at /content/gdrive\n"
          ],
          "name": "stdout"
        }
      ]
    },
    {
      "cell_type": "code",
      "metadata": {
        "id": "AIZy3F12Eal9"
      },
      "source": [
        "import zipfile\n",
        "with zipfile.ZipFile('/content/gdrive/My Drive/segmentation/Training_Batch1.zip', 'r') as zip_ref:\n",
        "    zip_ref.extractall('/content/')"
      ],
      "execution_count": 5,
      "outputs": []
    },
    {
      "cell_type": "code",
      "metadata": {
        "id": "J0Slma5-EcMg",
        "colab": {
          "base_uri": "https://localhost:8080/"
        },
        "outputId": "bfb86e24-2407-4fe2-b466-0b5ec28bd69b"
      },
      "source": [
        "pip install medpy"
      ],
      "execution_count": 6,
      "outputs": [
        {
          "output_type": "stream",
          "text": [
            "Collecting medpy\n",
            "  Using cached https://files.pythonhosted.org/packages/3b/70/c1fd5dd60242eee81774696ea7ba4caafac2bad8f028bba94b1af83777d7/MedPy-0.4.0.tar.gz\n",
            "Requirement already satisfied: scipy>=1.1.0 in /usr/local/lib/python3.7/dist-packages (from medpy) (1.4.1)\n",
            "Requirement already satisfied: numpy>=1.11.0 in /usr/local/lib/python3.7/dist-packages (from medpy) (1.19.5)\n",
            "Collecting SimpleITK>=1.1.0\n",
            "\u001b[?25l  Downloading https://files.pythonhosted.org/packages/9c/6b/85df5eb3a8059b23a53a9f224476e75473f9bcc0a8583ed1a9c34619f372/SimpleITK-2.0.2-cp37-cp37m-manylinux2010_x86_64.whl (47.4MB)\n",
            "\u001b[K     |████████████████████████████████| 47.4MB 64kB/s \n",
            "\u001b[?25hBuilding wheels for collected packages: medpy\n",
            "  Building wheel for medpy (setup.py) ... \u001b[?25l\u001b[?25hdone\n",
            "  Created wheel for medpy: filename=MedPy-0.4.0-cp37-cp37m-linux_x86_64.whl size=754450 sha256=e378f6587aad95aad3dc9ba52837382b53e82b196e5c99fedee7eee1d94c08e3\n",
            "  Stored in directory: /root/.cache/pip/wheels/8c/c9/9c/2c6281c7a72b9fb1570862a4f028af7ce38405008354fbf870\n",
            "Successfully built medpy\n",
            "Installing collected packages: SimpleITK, medpy\n",
            "Successfully installed SimpleITK-2.0.2 medpy-0.4.0\n"
          ],
          "name": "stdout"
        }
      ]
    },
    {
      "cell_type": "code",
      "metadata": {
        "id": "TDRr7J9IEhUz"
      },
      "source": [
        "import os\n",
        "import glob\n",
        "for i in range(6,28):\n",
        "    os.remove( '/content/media/nas/01_Datasets/CT/LITS/Training Batch 1/segmentation-'+str(i)+'.nii')\n",
        "    os.remove( '/content/media/nas/01_Datasets/CT/LITS/Training Batch 1/volume-'+str(i)+'.nii')"
      ],
      "execution_count": 7,
      "outputs": []
    },
    {
      "cell_type": "code",
      "metadata": {
        "id": "Gu41mbd6ssHH"
      },
      "source": [
        "import os\n",
        "os.mkdir('data')"
      ],
      "execution_count": 8,
      "outputs": []
    },
    {
      "cell_type": "code",
      "metadata": {
        "id": "-5nYp_EVEw8Q",
        "colab": {
          "base_uri": "https://localhost:8080/"
        },
        "outputId": "e154d3e5-b22a-4b2c-907e-93dacb756a9f"
      },
      "source": [
        "from medpy.io import load, save\n",
        "import os\n",
        "import os.path\n",
        "import gc\n",
        "from scipy.ndimage import zoom\n",
        "import numpy as np\n",
        "from tqdm import tqdm\n",
        "for file in tqdm(range(6)):\n",
        "        shape=4/2\n",
        "        img, img_header = load('/content/media/nas/01_Datasets/CT/LITS/Training Batch 1/volume-'+str(file)+'.nii')\n",
        "        seg, img_header = load('/content/media/nas/01_Datasets/CT/LITS/Training Batch 1/segmentation-'+str(file)+'.nii')\n",
        "        arr=np.where(seg==2)[-1]\n",
        "        mn=(arr.min()+arr.max())/2\n",
        "        \n",
        "        \n",
        "        if mn-shape<0:\n",
        "          start=0\n",
        "          end=shape*2\n",
        "        elif mn+shape>img.shape[-1]:\n",
        "          end=img.shape[-1]\n",
        "          start=end-shape*2\n",
        "        else:\n",
        "          start=int(max(0,(mn-shape)))\n",
        "          end=int(min(img.shape[-1],int(mn+shape)))\n",
        "        \n",
        "        \n",
        "        img=img[:,:,start:end]\n",
        "        img[img < -200] = -200\n",
        "        img[img > 250] = 250\n",
        "        img+=112\n",
        "        img/=117\n",
        "        img = np.array(img, dtype='float32')\n",
        "        print (\"Saving image \"+str(file))\n",
        "        np.save( \"/content/data/volume-\" + str(file) ,zoom(img, (0.125, 0.125, 1)))\n",
        "        print(img.shape)\n",
        "        del([img])\n",
        "        gc.collect()\n",
        "        seg=seg.astype('float64')\n",
        "        seg+=0.1645\n",
        "        seg/=0.023138\n",
        "        seg = np.array(seg, dtype='float32')\n",
        "        seg=seg[:,:,start:end]\n",
        "        # print (\"Saving image \"+file)\n",
        "        np.save( \"/content/data/segmentation-\" + str(file),zoom(seg, (0.125, 0.125, 1)))\n",
        "        del([seg])\n",
        "        gc.collect()"
      ],
      "execution_count": 9,
      "outputs": [
        {
          "output_type": "stream",
          "text": [
            "\r  0%|          | 0/6 [00:00<?, ?it/s]"
          ],
          "name": "stderr"
        },
        {
          "output_type": "stream",
          "text": [
            "Saving image 0\n",
            "(512, 512, 4)\n"
          ],
          "name": "stdout"
        },
        {
          "output_type": "stream",
          "text": [
            "\r 17%|█▋        | 1/6 [00:02<00:13,  2.77s/it]"
          ],
          "name": "stderr"
        },
        {
          "output_type": "stream",
          "text": [
            "Saving image 1\n",
            "(512, 512, 4)\n"
          ],
          "name": "stdout"
        },
        {
          "output_type": "stream",
          "text": [
            "\r 33%|███▎      | 2/6 [00:06<00:11,  2.95s/it]"
          ],
          "name": "stderr"
        },
        {
          "output_type": "stream",
          "text": [
            "Saving image 2\n",
            "(512, 512, 4)\n"
          ],
          "name": "stdout"
        },
        {
          "output_type": "stream",
          "text": [
            "\r 50%|█████     | 3/6 [00:21<00:20,  6.79s/it]"
          ],
          "name": "stderr"
        },
        {
          "output_type": "stream",
          "text": [
            "Saving image 3\n",
            "(512, 512, 4)\n"
          ],
          "name": "stdout"
        },
        {
          "output_type": "stream",
          "text": [
            "\r 67%|██████▋   | 4/6 [00:29<00:14,  7.11s/it]"
          ],
          "name": "stderr"
        },
        {
          "output_type": "stream",
          "text": [
            "Saving image 4\n",
            "(512, 512, 4)\n"
          ],
          "name": "stdout"
        },
        {
          "output_type": "stream",
          "text": [
            "\r 83%|████████▎ | 5/6 [00:49<00:10, 10.76s/it]"
          ],
          "name": "stderr"
        },
        {
          "output_type": "stream",
          "text": [
            "Saving image 5\n",
            "(512, 512, 4)\n"
          ],
          "name": "stdout"
        },
        {
          "output_type": "stream",
          "text": [
            "100%|██████████| 6/6 [00:57<00:00,  9.59s/it]\n"
          ],
          "name": "stderr"
        }
      ]
    },
    {
      "cell_type": "code",
      "metadata": {
        "id": "x9fHd2tT_hso"
      },
      "source": [
        "import scipy.ndimage as nd\n",
        "import scipy.io as io\n",
        "import matplotlib\n",
        "# Force matplotlib to not use any Xwindows backend.\n",
        "matplotlib.use('Agg')\n",
        "import matplotlib.pyplot as plt\n",
        "import skimage.measure as sk\n",
        "from mpl_toolkits import mplot3d\n",
        "import matplotlib.gridspec as gridspec\n",
        "import numpy as np\n",
        "from torch.utils import data\n",
        "from torch.autograd import Variable\n",
        "import torch\n",
        "import os\n",
        "import pickle\n",
        "\n",
        "def getVoxelFromMat(path, cube_len=64):\n",
        "\n",
        "    voxels = io.loadmat(path)['instance']\n",
        "    voxels = np.pad(voxels, (1, 1), 'constant', constant_values=(0, 0))\n",
        "    if cube_len != 32 and cube_len == 64:\n",
        "        voxels = nd.zoom(voxels, (2, 2, 2), mode='constant', order=0)\n",
        "    return voxels\n",
        "\n",
        "\n",
        "def getVFByMarchingCubes(voxels, threshold=0.5):\n",
        "    \"\"\"Voxel 로 부터 Vertices, faces 리턴 하는 함수\"\"\"\n",
        "    v, f = sk.marching_cubes_classic(voxels, level=threshold)\n",
        "    return v, f\n",
        "\n",
        "\n",
        "def plotVoxelVisdom(voxels, visdom, title):\n",
        "    v, f = getVFByMarchingCubes(voxels)\n",
        "    visdom.mesh(X=v, Y=f, opts=dict(opacity=0.5, title=title))\n",
        "\n",
        "\n",
        "def plotFromVoxels(voxels):\n",
        "    z, x, y = voxels.nonzero()\n",
        "    fig = plt.figure()\n",
        "    ax = fig.add_subplot(111, projection='3d')\n",
        "    ax.scatter(x, y, -z, zdir='z', c='red')\n",
        "    plt.show()\n",
        "\n",
        "\n",
        "def SavePloat_Voxels(voxels, path, iteration):\n",
        "    voxels = voxels[:8].__ge__(0.5)\n",
        "    fig = plt.figure(figsize=(32, 16))\n",
        "    gs = gridspec.GridSpec(2, 4)\n",
        "    gs.update(wspace=0.05, hspace=0.05)\n",
        "\n",
        "    for i, sample in enumerate(voxels):\n",
        "        x, y, z = sample.nonzero()\n",
        "        ax = plt.subplot(gs[i], projection='3d')\n",
        "        ax.scatter(x, y, z, zdir='z', c='red')\n",
        "        ax.set_xticklabels([])\n",
        "        ax.set_yticklabels([])\n",
        "        ax.set_aspect('equal')\n",
        "    plt.savefig(path + '/{}.png'.format(str(iteration).zfill(3)), bbox_inches='tight')\n",
        "    plt.close()\n",
        "\n",
        "    with open(path + '/{}.pkl'.format(str(iteration).zfill(3)), \"wb\") as f:\n",
        "        pickle.dump(voxels, f, protocol=pickle.HIGHEST_PROTOCOL)\n",
        "\n",
        "\n",
        "def make_hyparam_string(hyparam_dict):\n",
        "    str_result = \"\"\n",
        "    for i in hyparam_dict.keys():\n",
        "        str_result = str_result + str(i) + \"=\" + str(hyparam_dict[i]) + \"_\"\n",
        "    return str_result[:-1]\n",
        "\n",
        "class ShapeNetDataset(data.Dataset):\n",
        "    \"\"\"Custom Dataset compatible with torch.utils.data.DataLoader\"\"\"\n",
        "\n",
        "    def __init__(self):\n",
        "      pass\n",
        "    def __getitem__(self, index):\n",
        "        seg=np.load('/content/data/segmentation-'+str(index)+'.npy')\n",
        "        img=np.load('/content/data/volume-'+str(index)+'.npy')\n",
        "        total=np.concatenate([img,seg],-1)\n",
        "\n",
        "        return torch.FloatTensor(total)\n",
        "\n",
        "    def __len__(self):\n",
        "        return 6\n",
        "\n",
        "def var_or_cuda(x):\n",
        "    if torch.cuda.is_available():\n",
        "        x = x.cuda()\n",
        "    return Variable(x)\n",
        "\n",
        "def generateZ():\n",
        "\n",
        "    Z = var_or_cuda(torch.Tensor(1,1024).normal_(0, 0.33))\n",
        "\n",
        "    return Z\n",
        "\n",
        "########################## Pickle helper ###############################\n",
        "\n",
        "\n",
        "def read_pickle(path, G, G_solver, D_, D_solver):\n",
        "    try:\n",
        "\n",
        "        files = os.listdir(path)\n",
        "        file_list = [int(file.split('_')[-1].split('.')[0]) for file in files]\n",
        "        file_list.sort()\n",
        "        recent_iter = str(file_list[-1])\n",
        "        print(recent_iter, path)\n",
        "\n",
        "        with open(path + \"/G_\" + recent_iter + \".pkl\", \"rb\") as f:\n",
        "            G.load_state_dict(torch.load(f))\n",
        "        with open(path + \"/G_optim_\" + recent_iter + \".pkl\", \"rb\") as f:\n",
        "            G_solver.load_state_dict(torch.load(f))\n",
        "        with open(path + \"/D_\" + recent_iter + \".pkl\", \"rb\") as f:\n",
        "            D_.load_state_dict(torch.load(f))\n",
        "        with open(path + \"/D_optim_\" + recent_iter + \".pkl\", \"rb\") as f:\n",
        "            D_solver.load_state_dict(torch.load(f))\n",
        "\n",
        "\n",
        "    except Exception as e:\n",
        "\n",
        "        print(\"fail try read_pickle\", e)\n",
        "\n",
        "\n",
        "\n",
        "def save_new_pickle(path, iteration, G, G_solver, D_, D_solver):\n",
        "    if not os.path.exists(path):\n",
        "        os.makedirs(path)\n",
        "\n",
        "    with open(path + \"/G_\" + str(iteration) + \".pkl\", \"wb\") as f:\n",
        "        torch.save(G.state_dict(), f)\n",
        "    with open(path + \"/G_optim_\" + str(iteration) + \".pkl\", \"wb\") as f:\n",
        "        torch.save(G_solver.state_dict(), f)\n",
        "    with open(path + \"/D_\" + str(iteration) + \".pkl\", \"wb\") as f:\n",
        "        torch.save(D_.state_dict(), f)\n",
        "    with open(path + \"/D_optim_\" + str(iteration) + \".pkl\", \"wb\") as f:\n",
        "        torch.save(D_solver.state_dict(), f)"
      ],
      "execution_count": 9,
      "outputs": []
    },
    {
      "cell_type": "code",
      "metadata": {
        "id": "DiQgn7rK_oAX"
      },
      "source": [
        "import torch\n",
        "\n",
        "\n",
        "class _G(torch.nn.Module):\n",
        "    def __init__(self):\n",
        "        super(_G, self).__init__()\n",
        "        self.cube_len = 64\n",
        "\n",
        "        padd = (0, 0, 0)\n",
        "        if self.cube_len == 32:\n",
        "            padd = (1,1,1)\n",
        "\n",
        "        self.layer1 = torch.nn.Sequential(\n",
        "            torch.nn.ConvTranspose3d(1024, self.cube_len*8, kernel_size=4, stride=2, padding=padd),\n",
        "            torch.nn.BatchNorm3d(self.cube_len*8),\n",
        "            torch.nn.ReLU()\n",
        "        )\n",
        "        self.layer2 = torch.nn.Sequential(\n",
        "            torch.nn.ConvTranspose3d(self.cube_len*8, self.cube_len*4, kernel_size=4, stride=2, padding=(1, 1, 1)),\n",
        "            torch.nn.BatchNorm3d(self.cube_len*4),\n",
        "            torch.nn.ReLU()\n",
        "        )\n",
        "        self.layer3 = torch.nn.Sequential(\n",
        "            torch.nn.ConvTranspose3d(self.cube_len*4, self.cube_len*2, kernel_size=4, stride=2, padding='same'),\n",
        "            torch.nn.BatchNorm3d(self.cube_len*2),\n",
        "            torch.nn.ReLU()\n",
        "        )\n",
        "        self.layer4 = torch.nn.Sequential(\n",
        "            torch.nn.Conv3d(16, 32, kernel_size=4, stride=2, padding='same'),\n",
        "            torch.nn.BatchNorm3d(self.cube_len),\n",
        "            torch.nn.ReLU()\n",
        "        )\n",
        "        self.layer5 = torch.nn.Sequential(\n",
        "            torch.nn.Conv3d(32,8, kernel_size=4, stride=2, padding='same')\n",
        "        )\n",
        "        self.lnr = torch.nn.Linear(1024,8*1024)\n",
        "    def forward(self, x):\n",
        "        x = self.lnr(x)\n",
        "        out = x.view(-1, 8, 32, 32, 1)\n",
        "        #print(out.size())  # torch.Size([100, 200, 1, 1, 1])\n",
        "        out = self.layer1(out)\n",
        "        #print(out.size())  # torch.Size([100, 512, 4, 4, 4])\n",
        "        out = self.layer2(out)\n",
        "        #print(out.size())  # torch.Size([100, 256, 8, 8, 8])\n",
        "        out = self.layer3(out)\n",
        "        #print(out.size())  # torch.Size([100, 128, 16, 16, 16])\n",
        "        out = self.layer4(out)\n",
        "        #print(out.size())  # torch.Size([100, 64, 32, 32, 32])\n",
        "        out = self.layer5(out)\n",
        "        #print(out.size())  # torch.Size([100, 1, 64, 64, 64])\n",
        "\n",
        "        return out\n",
        "\n",
        "\n",
        "class _D(torch.nn.Module):\n",
        "    def __init__(self, ):\n",
        "        super(_D, self).__init__()\n",
        "        self.cube_len = 64\n",
        "\n",
        "        padd = (0,0,0)\n",
        "        if self.cube_len == 32:\n",
        "            padd = (1,1,1)\n",
        "\n",
        "        self.layer1 = torch.nn.Sequential(\n",
        "            torch.nn.Conv3d(1, self.cube_len, kernel_size=4, stride=2,  padding=(1, 1, 1)),\n",
        "            torch.nn.BatchNorm3d(self.cube_len),\n",
        "            torch.nn.LeakyReLU(0.1)\n",
        "        )\n",
        "        self.layer2 = torch.nn.Sequential(\n",
        "            torch.nn.Conv3d(self.cube_len, self.cube_len*2, kernel_size=4, stride=2,  padding=(1, 1, 1)),\n",
        "            torch.nn.BatchNorm3d(self.cube_len*2),\n",
        "            torch.nn.LeakyReLU(0.1)\n",
        "        )\n",
        "        self.layer3 = torch.nn.Sequential(\n",
        "            torch.nn.Conv3d(self.cube_len*2, self.cube_len*4, kernel_size=4, stride=2,  padding=(1, 1, 1)),\n",
        "            torch.nn.BatchNorm3d(self.cube_len*4),\n",
        "            torch.nn.LeakyReLU(0.1)\n",
        "        )\n",
        "        self.layer4 = torch.nn.Sequential(\n",
        "            torch.nn.Conv3d(self.cube_len*4, self.cube_len*8, kernel_size=4, stride=2,  padding=(1, 1, 1)),\n",
        "            torch.nn.BatchNorm3d(self.cube_len*8),\n",
        "            torch.nn.LeakyReLU(0.1)\n",
        "        )\n",
        "        self.layer5 = torch.nn.Sequential(\n",
        "            torch.nn.Conv3d(self.cube_len*8, 1, kernel_size=4, stride=2, padding=padd),\n",
        "            torch.nn.Sigmoid()\n",
        "        )\n",
        "\n",
        "    def forward(self, x):\n",
        "        out = x.view(-1, 1, 64,64,8)\n",
        "        #print(out.size()) # torch.Size([100, 1, 64, 64, 64])\n",
        "        out = self.layer1(out)\n",
        "        #print(out.size())  # torch.Size([100, 64, 32, 32, 32])\n",
        "        out = self.layer2(out)\n",
        "        #print(out.size())  # torch.Size([100, 128, 16, 16, 16])\n",
        "        out = self.layer3(out)\n",
        "        #print(out.size())  # torch.Size([100, 256, 8, 8, 8])\n",
        "        out = self.layer4(out)\n",
        "        #print(out.size())  # torch.Size([100, 512, 4, 4, 4])\n",
        "        out = self.layer5(out)\n",
        "        #print(out.size())  # torch.Size([100, 200, 1, 1, 1])\n",
        "\n",
        "        return out"
      ],
      "execution_count": 10,
      "outputs": []
    },
    {
      "cell_type": "code",
      "metadata": {
        "id": "WUbiPEhX_wX3"
      },
      "source": [
        "from bisect import bisect_right\n",
        "from torch.optim.optimizer import Optimizer\n",
        "\n",
        "\n",
        "class _LRScheduler(object):\n",
        "    def __init__(self, optimizer, last_epoch=-1):\n",
        "        if not isinstance(optimizer, Optimizer):\n",
        "            raise TypeError('{} is not an Optimizer'.format(\n",
        "                type(optimizer).__name__))\n",
        "        self.optimizer = optimizer\n",
        "        if last_epoch == -1:\n",
        "            for group in optimizer.param_groups:\n",
        "                group.setdefault('initial_lr', group['lr'])\n",
        "        else:\n",
        "            for i, group in enumerate(optimizer.param_groups):\n",
        "                if 'initial_lr' not in group:\n",
        "                    raise KeyError(\"param 'initial_lr' is not specified \"\n",
        "                                   \"in param_groups[{}] when resuming an optimizer\".format(i))\n",
        "        self.base_lrs = list(map(lambda group: group['initial_lr'], optimizer.param_groups))\n",
        "        self.step(last_epoch + 1)\n",
        "        self.last_epoch = last_epoch\n",
        "\n",
        "    def get_lr(self):\n",
        "        raise NotImplementedError\n",
        "\n",
        "    def step(self, epoch=None):\n",
        "        if epoch is None:\n",
        "            epoch = self.last_epoch + 1\n",
        "        self.last_epoch = epoch\n",
        "        for param_group, lr in zip(self.optimizer.param_groups, self.get_lr()):\n",
        "            param_group['lr'] = lr\n",
        "\n",
        "\n",
        "class LambdaLR(_LRScheduler):\n",
        "    def __init__(self, optimizer, lr_lambda, last_epoch=-1):\n",
        "        self.optimizer = optimizer\n",
        "        if not isinstance(lr_lambda, list) and not isinstance(lr_lambda, tuple):\n",
        "            self.lr_lambdas = [lr_lambda] * len(optimizer.param_groups)\n",
        "        else:\n",
        "            if len(lr_lambda) != len(optimizer.param_groups):\n",
        "                raise ValueError(\"Expected {} lr_lambdas, but got {}\".format(\n",
        "                    len(optimizer.param_groups), len(lr_lambda)))\n",
        "            self.lr_lambdas = list(lr_lambda)\n",
        "        self.last_epoch = last_epoch\n",
        "        super(LambdaLR, self).__init__(optimizer, last_epoch)\n",
        "\n",
        "    def get_lr(self):\n",
        "        return [base_lr * lmbda(self.last_epoch)\n",
        "                for lmbda, base_lr in zip(self.lr_lambdas, self.base_lrs)]\n",
        "\n",
        "\n",
        "class StepLR(_LRScheduler):\n",
        "    \"\"\"Sets the learning rate of each parameter group to the initial lr\n",
        "    decayed by gamma every step_size epochs.\n",
        "    Args:\n",
        "        optimizer (Optimizer): Wrapped optimizer.\n",
        "        step_size (int): Period of learning rate decay.\n",
        "        gamma (float): Multiplicative factor of learning rate decay.\n",
        "    Example:\n",
        "        >>> # Assuming optimizer uses lr = 0.5 for all groups\n",
        "        >>> # lr = 0.05     if epoch < 30\n",
        "        >>> # lr = 0.005    if 30 <= epoch < 60\n",
        "        >>> # lr = 0.0005   if 60 <= epoch < 90\n",
        "        >>> # ...\n",
        "        >>> scheduler = StepLR(optimizer, step_size=30, gamma=0.1)\n",
        "        >>> for epoch in range(100):\n",
        "        >>>     scheduler.step()\n",
        "        >>>     train(...)\n",
        "        >>>     validate(...)\n",
        "    \"\"\"\n",
        "\n",
        "    def __init__(self, optimizer, step_size, gamma=0.1, last_epoch=-1):\n",
        "        self.step_size = step_size\n",
        "        self.gamma = gamma\n",
        "        super(StepLR, self).__init__(optimizer, last_epoch)\n",
        "\n",
        "    def get_lr(self):\n",
        "        return [base_lr * self.gamma ** (self.last_epoch // self.step_size)\n",
        "                for base_lr in self.base_lrs]\n",
        "\n",
        "\n",
        "class MultiStepLR(_LRScheduler):\n",
        "    \"\"\"Set the learning rate of each parameter group to the initial lr decayed\n",
        "    by gamma once the number of epoch reaches one of the milestones.\n",
        "    Args:\n",
        "        optimizer (Optimizer): Wrapped optimizer.\n",
        "        milestones (list): List of epoch indices. Must be increasing.\n",
        "        gamma (float): Multiplicative factor of learning rate decay.\n",
        "    Example:\n",
        "        >>> # Assuming optimizer uses lr = 0.5 for all groups\n",
        "        >>> # lr = 0.05     if epoch < 30\n",
        "        >>> # lr = 0.005    if 30 <= epoch < 80\n",
        "        >>> # lr = 0.0005   if epoch >= 80\n",
        "        >>> scheduler = MultiStepLR(optimizer, milestones=[30,80], gamma=0.1)\n",
        "        >>> for epoch in range(100):\n",
        "        >>>     scheduler.step()\n",
        "        >>>     train(...)\n",
        "        >>>     validate(...)\n",
        "    \"\"\"\n",
        "\n",
        "    def __init__(self, optimizer, milestones, gamma=0.1, last_epoch=-1):\n",
        "        if not list(milestones) == sorted(milestones):\n",
        "            raise ValueError('Milestones should be a list of'\n",
        "                             ' increasing integers. Got {}', milestones)\n",
        "        self.milestones = milestones\n",
        "        self.gamma = gamma\n",
        "        super(MultiStepLR, self).__init__(optimizer, last_epoch)\n",
        "\n",
        "    def get_lr(self):\n",
        "        return [base_lr * self.gamma ** bisect_right(self.milestones, self.last_epoch)\n",
        "                for base_lr in self.base_lrs]\n",
        "\n",
        "\n",
        "class ExponentialLR(_LRScheduler):\n",
        "    \"\"\"Set the learning rate of each parameter group to the initial lr decayed\n",
        "    by gamma every epoch.\n",
        "    Args:\n",
        "        optimizer (Optimizer): Wrapped optimizer.\n",
        "        gamma (float): Multiplicative factor of learning rate decay.\n",
        "    \"\"\"\n",
        "\n",
        "    def __init__(self, optimizer, gamma, last_epoch=-1):\n",
        "        self.gamma = gamma\n",
        "        super(ExponentialLR, self).__init__(optimizer, last_epoch)\n",
        "\n",
        "    def get_lr(self):\n",
        "        return [base_lr * self.gamma ** self.last_epoch\n",
        "                for base_lr in self.base_lrs]\n",
        "\n",
        "\n",
        "class ReduceLROnPlateau(object):\n",
        "    \"\"\"Reduce learning rate when a metric has stopped improving.\n",
        "    Models often benefit from reducing the learning rate by a factor\n",
        "    of 2-10 once learning stagnates. This scheduler reads a metrics\n",
        "    quantity and if no improvement is seen for a 'patience' number\n",
        "    of epochs, the learning rate is reduced.\n",
        "    Args:\n",
        "        optimizer (Optimizer): Wrapped optimizer.\n",
        "        mode (str): One of `min`, `max`. In `min` mode, lr will\n",
        "            be reduced when the quantity monitored has stopped\n",
        "            decreasing; in `max` mode it will be reduced when the\n",
        "            quantity monitored has stopped increasing. Default: 'min'.\n",
        "        factor (float): Factor by which the learning rate will be\n",
        "            reduced. new_lr = lr * factor. Default: 0.1.\n",
        "        patience (int): Number of epochs with no improvement after\n",
        "            which learning rate will be reduced. Default: 10.\n",
        "        verbose (bool): If True, prints a message to stdout for\n",
        "            each update. Default: False.\n",
        "        threshold (float): Threshold for measuring the new optimum,\n",
        "            to only focus on significant changes. Default: 1e-4.\n",
        "        threshold_mode (str): One of `rel`, `abs`. In `rel` mode,\n",
        "            dynamic_threshold = best * ( 1 + threshold ) in 'max'\n",
        "            mode or best * ( 1 - threshold ) in `min` mode.\n",
        "            In `abs` mode, dynamic_threshold = best + threshold in\n",
        "            `max` mode or best - threshold in `min` mode. Default: 'rel'.\n",
        "        cooldown (int): Number of epochs to wait before resuming\n",
        "            normal operation after lr has been reduced. Default: 0.\n",
        "        min_lr (float or list): A scalar or a list of scalars. A\n",
        "            lower bound on the learning rate of all param groups\n",
        "            or each group respectively. Default: 0.\n",
        "        eps (float): Minimal decay applied to lr. If the difference\n",
        "            between new and old lr is smaller than eps, the update is\n",
        "            ignored. Default: 1e-8.\n",
        "    Example:\n",
        "        >>> optimizer = torch.optim.SGD(model.parameters(), lr=0.1, momentum=0.9)\n",
        "        >>> scheduler = torch.optim.ReduceLROnPlateau(optimizer, 'min')\n",
        "        >>> for epoch in range(10):\n",
        "        >>>     train(...)\n",
        "        >>>     val_loss = validate(...)\n",
        "        >>>     # Note that step should be called after validate()\n",
        "        >>>     scheduler.step(val_loss)\n",
        "    \"\"\"\n",
        "\n",
        "    def __init__(self, optimizer, mode='min', factor=0.1, patience=10,\n",
        "                 verbose=False, threshold=1e-4, threshold_mode='rel',\n",
        "                 cooldown=0, min_lr=0, eps=1e-8):\n",
        "\n",
        "        if factor >= 1.0:\n",
        "            raise ValueError('Factor should be < 1.0.')\n",
        "        self.factor = factor\n",
        "\n",
        "        if not isinstance(optimizer, Optimizer):\n",
        "            raise TypeError('{} is not an Optimizer'.format(\n",
        "                type(optimizer).__name__))\n",
        "        self.optimizer = optimizer\n",
        "\n",
        "        if isinstance(min_lr, list) or isinstance(min_lr, tuple):\n",
        "            if len(min_lr) != len(optimizer.param_groups):\n",
        "                raise ValueError(\"expected {} min_lrs, got {}\".format(\n",
        "                    len(optimizer.param_groups), len(min_lr)))\n",
        "            self.min_lrs = list(min_lr)\n",
        "        else:\n",
        "            self.min_lrs = [min_lr] * len(optimizer.param_groups)\n",
        "\n",
        "        self.patience = patience\n",
        "        self.verbose = verbose\n",
        "        self.cooldown = cooldown\n",
        "        self.cooldown_counter = 0\n",
        "        self.mode = mode\n",
        "        self.threshold = threshold\n",
        "        self.threshold_mode = threshold_mode\n",
        "        self.best = None\n",
        "        self.num_bad_epochs = None\n",
        "        self.mode_worse = None  # the worse value for the chosen mode\n",
        "        self.is_better = None\n",
        "        self.eps = eps\n",
        "        self.last_epoch = -1\n",
        "        self._init_is_better(mode=mode, threshold=threshold,\n",
        "                             threshold_mode=threshold_mode)\n",
        "        self._reset()\n",
        "\n",
        "    def _reset(self):\n",
        "        \"\"\"Resets num_bad_epochs counter and cooldown counter.\"\"\"\n",
        "        self.best = self.mode_worse\n",
        "        self.cooldown_counter = 0\n",
        "        self.num_bad_epochs = 0\n",
        "\n",
        "    def step(self, metrics, epoch=None):\n",
        "        current = metrics\n",
        "        if epoch is None:\n",
        "            epoch = self.last_epoch = self.last_epoch + 1\n",
        "        self.last_epoch = epoch\n",
        "\n",
        "        if self.is_better(current, self.best):\n",
        "            self.best = current\n",
        "            self.num_bad_epochs = 0\n",
        "        else:\n",
        "            self.num_bad_epochs += 1\n",
        "\n",
        "        if self.in_cooldown:\n",
        "            self.cooldown_counter -= 1\n",
        "            self.num_bad_epochs = 0  # ignore any bad epochs in cooldown\n",
        "\n",
        "        if self.num_bad_epochs > self.patience:\n",
        "            self._reduce_lr(epoch)\n",
        "            self.cooldown_counter = self.cooldown\n",
        "            self.num_bad_epochs = 0\n",
        "\n",
        "    def _reduce_lr(self, epoch):\n",
        "        for i, param_group in enumerate(self.optimizer.param_groups):\n",
        "            old_lr = float(param_group['lr'])\n",
        "            new_lr = max(old_lr * self.factor, self.min_lrs[i])\n",
        "            if old_lr - new_lr > self.eps:\n",
        "                param_group['lr'] = new_lr\n",
        "                if self.verbose:\n",
        "                    print('Epoch {:5d}: reducing learning rate'\n",
        "                          ' of group {} to {:.4e}.'.format(epoch, i, new_lr))\n",
        "\n",
        "    @property\n",
        "    def in_cooldown(self):\n",
        "        return self.cooldown_counter > 0\n",
        "\n",
        "    def _init_is_better(self, mode, threshold, threshold_mode):\n",
        "        if mode not in {'min', 'max'}:\n",
        "            raise ValueError('mode ' + mode + ' is unknown!')\n",
        "        if threshold_mode not in {'rel', 'abs'}:\n",
        "            raise ValueError('threshold mode ' + mode + ' is unknown!')\n",
        "        if mode == 'min' and threshold_mode == 'rel':\n",
        "            rel_epsilon = 1. - threshold\n",
        "            self.is_better = lambda a, best: a < best * rel_epsilon\n",
        "            self.mode_worse = float('Inf')\n",
        "        elif mode == 'min' and threshold_mode == 'abs':\n",
        "            self.is_better = lambda a, best: a < best - threshold\n",
        "            self.mode_worse = float('Inf')\n",
        "        elif mode == 'max' and threshold_mode == 'rel':\n",
        "            rel_epsilon = threshold + 1.\n",
        "            self.is_better = lambda a, best: a > best * rel_epsilon\n",
        "            self.mode_worse = -float('Inf')\n",
        "        else:  # mode == 'max' and epsilon_mode == 'abs':\n",
        "            self.is_better = lambda a, best: a > best + threshold\n",
        "            self.mode_worse = -float('Inf')"
      ],
      "execution_count": 11,
      "outputs": []
    },
    {
      "cell_type": "code",
      "metadata": {
        "id": "rsx9zt5U_UF2"
      },
      "source": [
        "import torch\n",
        "from torch import optim\n",
        "from torch import  nn\n",
        "from collections import OrderedDict\n",
        "import os\n",
        "\n",
        "\n",
        "\n",
        "def train():\n",
        "\n",
        "    hyparam_list = [(\"model\", 'abc'),\n",
        "                    (\"cube\", 64),\n",
        "                    (\"bs\", 1),\n",
        "                    (\"g_lr\", 1e-4),\n",
        "                    (\"d_lr\", 1e-4),]\n",
        "\n",
        "    hyparam_dict = OrderedDict(((arg, value) for arg, value in hyparam_list))\n",
        "    log_param = make_hyparam_string(hyparam_dict)\n",
        "    print(log_param)\n",
        "\n",
        "\n",
        "    # datset define\n",
        "    dsets = ShapeNetDataset()\n",
        "    dset_loaders = torch.utils.data.DataLoader(dsets, batch_size=1, shuffle=True, num_workers=1)\n",
        "\n",
        "    # model define\n",
        "    D = _D()\n",
        "    G = _G()\n",
        "\n",
        "    D_solver = optim.Adam(D.parameters(), lr=1e-4)\n",
        "    G_solver = optim.Adam(G.parameters(), lr=1e-4)\n",
        "\n",
        "    D_scheduler = MultiStepLR(D_solver, milestones=[500, 1000])\n",
        "\n",
        "    if torch.cuda.is_available():\n",
        "        print(\"using cuda\")\n",
        "        D.cuda()\n",
        "        G.cuda()\n",
        "\n",
        "    criterion = nn.BCELoss()\n",
        "\n",
        "    for epoch in range(50):\n",
        "        for i, X in enumerate(dset_loaders):\n",
        "\n",
        "            X = var_or_cuda(X)\n",
        "\n",
        "            if X.size()[0] != int(1):\n",
        "                #print(\"batch_size != {} drop last incompatible batch\".format(int(args.batch_size)))\n",
        "                continue\n",
        "\n",
        "            Z = generateZ()\n",
        "            real_labels = var_or_cuda(torch.ones(1))\n",
        "            fake_labels = var_or_cuda(torch.zeros(1))\n",
        "\n",
        "\n",
        "            # ============= Train the discriminator =============#\n",
        "            d_real = D(X)\n",
        "            d_real_loss = criterion(d_real, real_labels)\n",
        "\n",
        "\n",
        "            fake = G(Z)\n",
        "            d_fake = D(fake)\n",
        "            d_fake_loss = criterion(d_fake, fake_labels)\n",
        "\n",
        "            d_loss = d_real_loss + d_fake_loss\n",
        "\n",
        "\n",
        "            d_real_acu = torch.ge(d_real.squeeze(), 0.5).float()\n",
        "            d_fake_acu = torch.le(d_fake.squeeze(), 0.5).float()\n",
        "            d_total_acu = torch.mean(torch.cat((d_real_acu, d_fake_acu),0))\n",
        "\n",
        "            if d_total_acu <=10:\n",
        "                D.zero_grad()\n",
        "                d_loss.backward()\n",
        "                D_solver.step()\n",
        "\n",
        "            # =============== Train the generator ===============#\n",
        "\n",
        "            Z = generateZ()\n",
        "\n",
        "            fake = G(Z)\n",
        "            d_fake = D(fake)\n",
        "            g_loss = criterion(d_fake, real_labels)\n",
        "\n",
        "            D.zero_grad()\n",
        "            G.zero_grad()\n",
        "            g_loss.backward()\n",
        "            G_solver.step()\n",
        "\n",
        "        # =============== logging each iteration ===============#\n",
        "        iteration = str(G_solver.state_dict()['state'][G_solver.state_dict()['param_groups'][0]['params'][0]]['step'])\n",
        "        \n",
        "        # =============== each epoch save model or save image ===============#\n",
        "        print('Iter-{}; , D_loss : {:.4}, G_loss : {:.4}, D_acu : {:.4}, D_lr : {:.4}'.format(iteration, d_loss.data[0], g_loss.data[0], d_total_acu.data[0], D_solver.state_dict()['param_groups'][0][\"lr\"]))\n",
        "\n",
        "\n",
        "\n",
        "        D_scheduler.step()\n"
      ],
      "execution_count": 12,
      "outputs": []
    },
    {
      "cell_type": "code",
      "metadata": {
        "id": "1EXgRQ4v1t0g"
      },
      "source": [
        "\n",
        "\n",
        "class _D(torch.nn.Module):\n",
        "    def __init__(self, ):\n",
        "        super(_D, self).__init__()\n",
        "        self.cube_len = 64\n",
        "\n",
        "        padd = (0,0,0)\n",
        "        if self.cube_len == 32:\n",
        "            padd = (1,1,1)\n",
        "\n",
        "        self.layer1 = torch.nn.Sequential(\n",
        "            torch.nn.Conv3d(1, self.cube_len, kernel_size=4, stride=2,  padding=(1, 1, 4)),\n",
        "            torch.nn.BatchNorm3d(self.cube_len),\n",
        "            torch.nn.LeakyReLU(0.1)\n",
        "        )\n",
        "        self.layer2 = torch.nn.Sequential(\n",
        "            torch.nn.Conv3d(self.cube_len, self.cube_len*2, kernel_size=4, stride=2,  padding=(1, 1, 4)),\n",
        "            torch.nn.BatchNorm3d(self.cube_len*2),\n",
        "            torch.nn.LeakyReLU(0.1)\n",
        "        )\n",
        "        self.layer3 = torch.nn.Sequential(\n",
        "            torch.nn.Conv3d(self.cube_len*2, self.cube_len*4, kernel_size=4, stride=2,  padding=(1, 1, 4)),\n",
        "            torch.nn.BatchNorm3d(self.cube_len*4),\n",
        "            torch.nn.LeakyReLU(0.1)\n",
        "        )\n",
        "        self.layer4 = torch.nn.Sequential(\n",
        "            torch.nn.Conv3d(self.cube_len*4, self.cube_len*8, kernel_size=4, stride=2,  padding=(1, 1, 2)),\n",
        "            torch.nn.BatchNorm3d(self.cube_len*8),\n",
        "            torch.nn.LeakyReLU(0.1)\n",
        "        )\n",
        "        self.layer5 = torch.nn.Sequential(\n",
        "            torch.nn.Conv3d(self.cube_len*8, 1, kernel_size=4, stride=2, padding=padd),\n",
        "            torch.nn.Sigmoid()\n",
        "        )\n",
        "\n",
        "    def forward(self, x):\n",
        "        out = x.view(-1, 1, 64,64,8)\n",
        "        #print(out.size()) # torch.Size([100, 1, 64, 64, 64])\n",
        "        out = self.layer1(out)\n",
        "        #print(out.size())  # torch.Size([100, 64, 32, 32, 32])\n",
        "        out = self.layer2(out)\n",
        "        #print(out.size())  # torch.Size([100, 128, 16, 16, 16])\n",
        "        out = self.layer3(out)\n",
        "        #print(out.size())  # torch.Size([100, 256, 8, 8, 8])\n",
        "        out = self.layer4(out)\n",
        "        #print(out.size())  # torch.Size([100, 512, 4, 4, 4])\n",
        "        out = self.layer5(out)\n",
        "        #print(out.size())  # torch.Size([100, 200, 1, 1, 1])\n",
        "        out=out.view(-1)\n",
        "        return out"
      ],
      "execution_count": 13,
      "outputs": []
    },
    {
      "cell_type": "code",
      "metadata": {
        "id": "W1Lyh0mK7jSW"
      },
      "source": [
        "\n",
        "class _G(torch.nn.Module):\n",
        "    def __init__(self):\n",
        "        super(_G, self).__init__()\n",
        "        self.cube_len = 64\n",
        "\n",
        "        padd = (0, 0, 0)\n",
        "        if self.cube_len == 32:\n",
        "            padd = (1,1,1)\n",
        "        self.layer1 = torch.nn.Sequential(\n",
        "            torch.nn.ConvTranspose3d(1024, self.cube_len*8, kernel_size=4, stride=2, padding=padd),\n",
        "            torch.nn.BatchNorm3d(self.cube_len*8),\n",
        "            torch.nn.ReLU()\n",
        "        )\n",
        "        self.layer2 = torch.nn.Sequential(\n",
        "            torch.nn.ConvTranspose3d(self.cube_len*8, self.cube_len*4, kernel_size=4, stride=2, padding=(1, 1, 1)),\n",
        "            torch.nn.BatchNorm3d(self.cube_len*4),\n",
        "            torch.nn.ReLU()\n",
        "        )\n",
        "        self.layer3 = torch.nn.Sequential(\n",
        "            torch.nn.ConvTranspose3d(self.cube_len*4, self.cube_len*2, kernel_size=4, stride=2, padding=(1, 1, 1)),\n",
        "            torch.nn.BatchNorm3d(self.cube_len*2),\n",
        "            torch.nn.ReLU()\n",
        "        )\n",
        "        self.layer4 = torch.nn.Sequential(\n",
        "            torch.nn.ConvTranspose3d(self.cube_len*2, self.cube_len, kernel_size=4, stride=2, padding=(1, 1, 1)),\n",
        "            torch.nn.BatchNorm3d(self.cube_len),\n",
        "            torch.nn.ReLU()\n",
        "        )\n",
        "        self.layer5 = torch.nn.Sequential(\n",
        "            torch.nn.ConvTranspose3d(self.cube_len, 1, kernel_size=4, stride=2, padding=(1, 1, 1))\n",
        "        )\n",
        "        self.lnr=nn.Linear(64,8)\n",
        "    def forward(self, x):\n",
        "        out = x.view(1,-1, 1,1, 1)\n",
        "        #print(out.size())  # torch.Size([100, 200, 1, 1, 1])\n",
        "        out = self.layer1(out)\n",
        "        #print(out.size())  # torch.Size([100, 512, 4, 4, 4])\n",
        "        out = self.layer2(out)\n",
        "        #print(out.size())  # torch.Size([100, 256, 8, 8, 8])\n",
        "        out = self.layer3(out)\n",
        "        #print(out.size())  # torch.Size([100, 128, 16, 16, 16])\n",
        "        out = self.layer4(out)\n",
        "        #print(out.size())  # torch.Size([100, 64, 32, 32, 32])\n",
        "        out = self.layer5(out)\n",
        "        out=self.lnr(out)\n",
        "        #print(out.size())  # torch.Size([100, 1, 64, 64, 64])\n",
        "\n",
        "        return out"
      ],
      "execution_count": 14,
      "outputs": []
    },
    {
      "cell_type": "code",
      "metadata": {
        "id": "LeRsZgslK2_P"
      },
      "source": [
        "    dsets = ShapeNetDataset()\n",
        "    dset_loaders = torch.utils.data.DataLoader(dsets, batch_size=1, shuffle=True, num_workers=1)\n",
        "\n",
        "    D = _D()\n",
        "    G = _G()\n",
        "\n",
        "    D_solver = optim.Adam(D.parameters(), lr=1e-4)\n",
        "    G_solver = optim.Adam(G.parameters(), lr=1e-4)\n",
        "\n",
        "\n",
        "    if torch.cuda.is_available():\n",
        "        D.cuda()\n",
        "        G.cuda()\n",
        "\n",
        "    criterion = nn.BCELoss()"
      ],
      "execution_count": 17,
      "outputs": []
    },
    {
      "cell_type": "code",
      "metadata": {
        "colab": {
          "base_uri": "https://localhost:8080/"
        },
        "id": "KdcChi1J09tO",
        "outputId": "98a036f2-6457-4dd6-ac52-4712b0fd221a"
      },
      "source": [
        "from tqdm import tqdm\n",
        "for epoch in range(100):\n",
        "        dsets = ShapeNetDataset()\n",
        "        dset_loaders = torch.utils.data.DataLoader(dsets, batch_size=1, shuffle=True, num_workers=1)\n",
        "        for i, X in enumerate(dset_loaders):\n",
        "\n",
        "            X = var_or_cuda(X)\n",
        "\n",
        "\n",
        "            Z = generateZ()\n",
        "            real_labels = var_or_cuda(torch.ones(1))\n",
        "            fake_labels = var_or_cuda(torch.zeros(1))\n",
        "\n",
        "\n",
        "            # ============= Train the discriminator =============#\n",
        "            d_real = D(X)\n",
        "            d_real_loss = criterion(d_real, real_labels)\n",
        "\n",
        "            fake = G(Z)\n",
        "            fake=fake[0]\n",
        "            d_fake = D(fake)\n",
        "            d_fake_loss = criterion(d_fake, fake_labels)\n",
        "\n",
        "            d_loss = d_real_loss + d_fake_loss\n",
        "\n",
        "\n",
        "            D.zero_grad()\n",
        "            d_loss.backward()\n",
        "            D_solver.step()\n",
        "\n",
        "            # =============== Train the generator ===============#\n",
        "\n",
        "            Z = generateZ()\n",
        "\n",
        "            fake = G(Z)\n",
        "            fake=fake[0]\n",
        "            d_fake = D(fake)\n",
        "            g_loss = criterion(d_fake, real_labels)\n",
        "\n",
        "            D.zero_grad()\n",
        "            G.zero_grad()\n",
        "            g_loss.backward()\n",
        "            G_solver.step()\n",
        "\n",
        "        # =============== logging each iteration ===============#\n",
        "        iteration = str(G_solver.state_dict()['state'][G_solver.state_dict()['param_groups'][0]['params'][0]]['step'])\n",
        "        \n",
        "        # =============== each epoch save model or save image ===============#\n",
        "        print('Iter-{}; , D_loss : {:.4}, G_loss : {:.4},  D_lr : {:.4}'.format(iteration, d_loss.item(), g_loss.item(),  D_solver.state_dict()['param_groups'][0][\"lr\"]))"
      ],
      "execution_count": 19,
      "outputs": [
        {
          "output_type": "stream",
          "text": [
            "Iter-12; , D_loss : 0.004744, G_loss : 7.887,  D_lr : 0.0001\n",
            "Iter-18; , D_loss : 0.005707, G_loss : 6.25,  D_lr : 0.0001\n",
            "Iter-24; , D_loss : 0.01828, G_loss : 8.231,  D_lr : 0.0001\n",
            "Iter-30; , D_loss : 0.004883, G_loss : 7.317,  D_lr : 0.0001\n",
            "Iter-36; , D_loss : 0.003583, G_loss : 7.474,  D_lr : 0.0001\n",
            "Iter-42; , D_loss : 0.006273, G_loss : 8.625,  D_lr : 0.0001\n",
            "Iter-48; , D_loss : 0.003039, G_loss : 10.91,  D_lr : 0.0001\n",
            "Iter-54; , D_loss : 0.001167, G_loss : 10.39,  D_lr : 0.0001\n",
            "Iter-60; , D_loss : 3.213e-05, G_loss : 10.95,  D_lr : 0.0001\n",
            "Iter-66; , D_loss : 4.84e-05, G_loss : 12.82,  D_lr : 0.0001\n",
            "Iter-72; , D_loss : 5.96e-06, G_loss : 13.05,  D_lr : 0.0001\n",
            "Iter-78; , D_loss : 2.348e-05, G_loss : 12.59,  D_lr : 0.0001\n",
            "Iter-84; , D_loss : 0.001373, G_loss : 16.57,  D_lr : 0.0001\n",
            "Iter-90; , D_loss : 0.003397, G_loss : 5.42,  D_lr : 0.0001\n",
            "Iter-96; , D_loss : 1.031e-05, G_loss : 12.67,  D_lr : 0.0001\n",
            "Iter-102; , D_loss : 0.0035, G_loss : 12.46,  D_lr : 0.0001\n",
            "Iter-108; , D_loss : 0.007339, G_loss : 12.22,  D_lr : 0.0001\n",
            "Iter-114; , D_loss : 0.01043, G_loss : 6.408,  D_lr : 0.0001\n",
            "Iter-120; , D_loss : 0.0005827, G_loss : 12.51,  D_lr : 0.0001\n",
            "Iter-126; , D_loss : 0.02894, G_loss : 9.758,  D_lr : 0.0001\n",
            "Iter-132; , D_loss : 1.009, G_loss : 12.13,  D_lr : 0.0001\n",
            "Iter-138; , D_loss : 8.107e-05, G_loss : 4.452,  D_lr : 0.0001\n",
            "Iter-144; , D_loss : 0.13, G_loss : 6.189,  D_lr : 0.0001\n",
            "Iter-150; , D_loss : 0.0003791, G_loss : 14.33,  D_lr : 0.0001\n",
            "Iter-156; , D_loss : 0.0831, G_loss : 18.77,  D_lr : 0.0001\n",
            "Iter-162; , D_loss : 0.2395, G_loss : 4.491,  D_lr : 0.0001\n",
            "Iter-168; , D_loss : 0.525, G_loss : 7.315,  D_lr : 0.0001\n",
            "Iter-174; , D_loss : 0.0002522, G_loss : 19.39,  D_lr : 0.0001\n",
            "Iter-180; , D_loss : 5.54, G_loss : 6.533,  D_lr : 0.0001\n",
            "Iter-186; , D_loss : 0.6616, G_loss : 19.22,  D_lr : 0.0001\n",
            "Iter-192; , D_loss : 1.027, G_loss : 16.19,  D_lr : 0.0001\n",
            "Iter-198; , D_loss : 0.0002784, G_loss : 11.01,  D_lr : 0.0001\n",
            "Iter-204; , D_loss : 0.001624, G_loss : 12.89,  D_lr : 0.0001\n",
            "Iter-210; , D_loss : 0.0001703, G_loss : 8.914,  D_lr : 0.0001\n",
            "Iter-216; , D_loss : 0.005092, G_loss : 12.73,  D_lr : 0.0001\n",
            "Iter-222; , D_loss : 0.0003892, G_loss : 5.889,  D_lr : 0.0001\n",
            "Iter-228; , D_loss : 0.0004285, G_loss : 5.83,  D_lr : 0.0001\n",
            "Iter-234; , D_loss : 0.00166, G_loss : 11.67,  D_lr : 0.0001\n",
            "Iter-240; , D_loss : 0.0153, G_loss : 4.024,  D_lr : 0.0001\n",
            "Iter-246; , D_loss : 0.02764, G_loss : 5.069,  D_lr : 0.0001\n",
            "Iter-252; , D_loss : 0.002598, G_loss : 6.435,  D_lr : 0.0001\n",
            "Iter-258; , D_loss : 0.0009157, G_loss : 5.675,  D_lr : 0.0001\n",
            "Iter-264; , D_loss : 0.00383, G_loss : 20.35,  D_lr : 0.0001\n",
            "Iter-270; , D_loss : 0.009538, G_loss : 6.645,  D_lr : 0.0001\n",
            "Iter-276; , D_loss : 0.002928, G_loss : 7.356,  D_lr : 0.0001\n",
            "Iter-282; , D_loss : 0.003949, G_loss : 6.445,  D_lr : 0.0001\n",
            "Iter-288; , D_loss : 0.009053, G_loss : 6.979,  D_lr : 0.0001\n",
            "Iter-294; , D_loss : 0.002145, G_loss : 7.119,  D_lr : 0.0001\n",
            "Iter-300; , D_loss : 0.0196, G_loss : 9.131,  D_lr : 0.0001\n",
            "Iter-306; , D_loss : 0.003647, G_loss : 5.9,  D_lr : 0.0001\n",
            "Iter-312; , D_loss : 0.000985, G_loss : 5.143,  D_lr : 0.0001\n",
            "Iter-318; , D_loss : 0.001932, G_loss : 5.899,  D_lr : 0.0001\n",
            "Iter-324; , D_loss : 0.004865, G_loss : 6.941,  D_lr : 0.0001\n",
            "Iter-330; , D_loss : 0.1647, G_loss : 16.57,  D_lr : 0.0001\n",
            "Iter-336; , D_loss : 0.004517, G_loss : 2.088,  D_lr : 0.0001\n",
            "Iter-342; , D_loss : 0.4085, G_loss : 18.0,  D_lr : 0.0001\n",
            "Iter-348; , D_loss : 9.442e-05, G_loss : 4.93,  D_lr : 0.0001\n",
            "Iter-354; , D_loss : 4.659, G_loss : 3.1,  D_lr : 0.0001\n",
            "Iter-360; , D_loss : 0.4929, G_loss : 10.4,  D_lr : 0.0001\n",
            "Iter-366; , D_loss : 0.0005453, G_loss : 6.229,  D_lr : 0.0001\n",
            "Iter-372; , D_loss : 9.34e-05, G_loss : 0.3312,  D_lr : 0.0001\n",
            "Iter-378; , D_loss : 0.0004461, G_loss : 8.771,  D_lr : 0.0001\n",
            "Iter-384; , D_loss : 0.05049, G_loss : 12.0,  D_lr : 0.0001\n",
            "Iter-390; , D_loss : 0.02171, G_loss : 10.09,  D_lr : 0.0001\n",
            "Iter-396; , D_loss : 0.009225, G_loss : 9.984,  D_lr : 0.0001\n",
            "Iter-402; , D_loss : 0.005739, G_loss : 3.907,  D_lr : 0.0001\n",
            "Iter-408; , D_loss : 0.3107, G_loss : 13.11,  D_lr : 0.0001\n",
            "Iter-414; , D_loss : 0.0006891, G_loss : 2.704,  D_lr : 0.0001\n",
            "Iter-420; , D_loss : 0.00389, G_loss : 12.4,  D_lr : 0.0001\n",
            "Iter-426; , D_loss : 0.0003837, G_loss : 5.611,  D_lr : 0.0001\n",
            "Iter-432; , D_loss : 0.001043, G_loss : 4.721,  D_lr : 0.0001\n",
            "Iter-438; , D_loss : 0.003394, G_loss : 16.26,  D_lr : 0.0001\n",
            "Iter-444; , D_loss : 0.007875, G_loss : 9.348,  D_lr : 0.0001\n",
            "Iter-450; , D_loss : 0.1576, G_loss : 6.85,  D_lr : 0.0001\n",
            "Iter-456; , D_loss : 0.1415, G_loss : 7.371,  D_lr : 0.0001\n",
            "Iter-462; , D_loss : 0.006473, G_loss : 11.35,  D_lr : 0.0001\n",
            "Iter-468; , D_loss : 0.001438, G_loss : 3.998,  D_lr : 0.0001\n",
            "Iter-474; , D_loss : 5.311e-05, G_loss : 0.05162,  D_lr : 0.0001\n",
            "Iter-480; , D_loss : 0.001376, G_loss : 10.84,  D_lr : 0.0001\n",
            "Iter-486; , D_loss : 0.001038, G_loss : 10.46,  D_lr : 0.0001\n",
            "Iter-492; , D_loss : 4.828e-06, G_loss : 15.82,  D_lr : 0.0001\n",
            "Iter-498; , D_loss : 5.371e-05, G_loss : 8.095,  D_lr : 0.0001\n",
            "Iter-504; , D_loss : 0.006459, G_loss : 13.97,  D_lr : 0.0001\n",
            "Iter-510; , D_loss : 0.01616, G_loss : 17.81,  D_lr : 0.0001\n",
            "Iter-516; , D_loss : 2.861e-06, G_loss : 5.385,  D_lr : 0.0001\n",
            "Iter-522; , D_loss : 0.001019, G_loss : 5.164,  D_lr : 0.0001\n",
            "Iter-528; , D_loss : 0.03607, G_loss : 2.128,  D_lr : 0.0001\n",
            "Iter-534; , D_loss : 0.1627, G_loss : 10.42,  D_lr : 0.0001\n",
            "Iter-540; , D_loss : 0.01413, G_loss : 19.01,  D_lr : 0.0001\n",
            "Iter-546; , D_loss : 0.05458, G_loss : 11.18,  D_lr : 0.0001\n",
            "Iter-552; , D_loss : 0.0009318, G_loss : 2.284,  D_lr : 0.0001\n",
            "Iter-558; , D_loss : 6.098e-05, G_loss : 4.808,  D_lr : 0.0001\n",
            "Iter-564; , D_loss : 2.253e-05, G_loss : 12.11,  D_lr : 0.0001\n",
            "Iter-570; , D_loss : 0.002258, G_loss : 13.87,  D_lr : 0.0001\n",
            "Iter-576; , D_loss : 0.005794, G_loss : 19.34,  D_lr : 0.0001\n",
            "Iter-582; , D_loss : 0.0009921, G_loss : 10.61,  D_lr : 0.0001\n",
            "Iter-588; , D_loss : 0.001675, G_loss : 20.13,  D_lr : 0.0001\n",
            "Iter-594; , D_loss : 0.001757, G_loss : 18.11,  D_lr : 0.0001\n",
            "Iter-600; , D_loss : 0.2766, G_loss : 8.638,  D_lr : 0.0001\n",
            "Iter-606; , D_loss : 0.05051, G_loss : 8.975,  D_lr : 0.0001\n"
          ],
          "name": "stdout"
        }
      ]
    },
    {
      "cell_type": "code",
      "metadata": {
        "id": "HW79ZTyAMl6g"
      },
      "source": [
        "%matplotlib inline"
      ],
      "execution_count": 35,
      "outputs": []
    },
    {
      "cell_type": "code",
      "metadata": {
        "colab": {
          "base_uri": "https://localhost:8080/",
          "height": 286
        },
        "id": "B-1198hw820c",
        "outputId": "45353a4e-8f02-479d-98e8-734e63c35f8e"
      },
      "source": [
        "from matplotlib import pyplot as plt\n",
        "plt.imshow(fake[0,:,:,0].cpu().detach().numpy())"
      ],
      "execution_count": 36,
      "outputs": [
        {
          "output_type": "execute_result",
          "data": {
            "text/plain": [
              "<matplotlib.image.AxesImage at 0x7f16fd632310>"
            ]
          },
          "metadata": {
            "tags": []
          },
          "execution_count": 36
        },
        {
          "output_type": "display_data",
          "data": {
            "image/png": "[encoded data removed]",
            "text/plain": [
              "<Figure size 432x288 with 1 Axes>"
            ]
          },
          "metadata": {
            "tags": [],
            "needs_background": "light"
          }
        }
      ]
    },
    {
      "cell_type": "code",
      "metadata": {
        "colab": {
          "base_uri": "https://localhost:8080/",
          "height": 286
        },
        "id": "thx1wQrKJ6tM",
        "outputId": "b42cbda2-7b6f-48bd-ba3a-49732b53d8d7"
      },
      "source": [
        "plt.imshow(fake[0,:,:,5].cpu().detach().numpy())"
      ],
      "execution_count": 37,
      "outputs": [
        {
          "output_type": "execute_result",
          "data": {
            "text/plain": [
              "<matplotlib.image.AxesImage at 0x7f16f8675850>"
            ]
          },
          "metadata": {
            "tags": []
          },
          "execution_count": 37
        },
        {
          "output_type": "display_data",
          "data": {
            "image/png": "[encoded data removed]",
            "text/plain": [
              "<Figure size 432x288 with 1 Axes>"
            ]
          },
          "metadata": {
            "tags": [],
            "needs_background": "light"
          }
        }
      ]
    },
    {
      "cell_type": "code",
      "metadata": {
        "colab": {
          "base_uri": "https://localhost:8080/",
          "height": 286
        },
        "id": "Z4ZsSD6c82mn",
        "outputId": "fe005f7d-e90c-4853-b141-210002b6142d"
      },
      "source": [
        "plt.imshow(X[0,:,:,0].cpu().detach().numpy())"
      ],
      "execution_count": 38,
      "outputs": [
        {
          "output_type": "execute_result",
          "data": {
            "text/plain": [
              "<matplotlib.image.AxesImage at 0x7f16f85e2e90>"
            ]
          },
          "metadata": {
            "tags": []
          },
          "execution_count": 38
        },
        {
          "output_type": "display_data",
          "data": {
            "image/png": "[encoded data removed]",
            "text/plain": [
              "<Figure size 432x288 with 1 Axes>"
            ]
          },
          "metadata": {
            "tags": [],
            "needs_background": "light"
          }
        }
      ]
    },
    {
      "cell_type": "code",
      "metadata": {
        "colab": {
          "base_uri": "https://localhost:8080/",
          "height": 286
        },
        "id": "2ysORpPIMMVt",
        "outputId": "0953ec93-a8e5-4b8a-ac2f-f8ebbbcb63bc"
      },
      "source": [
        "plt.imshow(X[0,:,:,5].cpu().detach().numpy())"
      ],
      "execution_count": 39,
      "outputs": [
        {
          "output_type": "execute_result",
          "data": {
            "text/plain": [
              "<matplotlib.image.AxesImage at 0x7f16f85588d0>"
            ]
          },
          "metadata": {
            "tags": []
          },
          "execution_count": 39
        },
        {
          "output_type": "display_data",
          "data": {
            "image/png": "[encoded data removed]",
            "text/plain": [
              "<Figure size 432x288 with 1 Axes>"
            ]
          },
          "metadata": {
            "tags": [],
            "needs_background": "light"
          }
        }
      ]
    },
    {
      "cell_type": "code",
      "metadata": {
        "id": "l0xTSgHxMsKK"
      },
      "source": [
        ""
      ],
      "execution_count": null,
      "outputs": []
    }
  ]
}